{
 "cells": [
  {
   "cell_type": "code",
   "execution_count": 1,
   "metadata": {},
   "outputs": [],
   "source": [
    "import pandas as pd\n",
    "import numpy as np\n",
    "import matplotlib.pyplot as plt\n",
    "\n",
    "from scipy.stats import bernoulli"
   ]
  },
  {
   "cell_type": "markdown",
   "metadata": {},
   "source": [
    "# Distribucion de Bernulli (Discreta)"
   ]
  },
  {
   "cell_type": "markdown",
   "metadata": {},
   "source": [
    "Si $X$ es una variable aleatoria que mide el numero de \"exitos\" y se realiza un unico experimento \n",
    "con dos posibles resultados (exito que toma valor 1 y fracaso que toma valor 0), diremos que $X$ se distribuye como una\n",
    "bernulli con parametro $p$.\n",
    "<br><br>\n",
    "<center>$\\large X$ ~ $\\large Be(p)$</center>\n",
    "\n",
    "donde $p$ es la probabilidad de exito y $q = 1 - p$ es la probabilidad de fracaso.\n",
    "\n",
    "El dominio de X será: {0,1}\n",
    "Donde la funcion de probabilidad vendra dada por: $\\large f(k) = p^k * (1-p)^{1-k}$"
   ]
  },
  {
   "cell_type": "code",
   "execution_count": 3,
   "metadata": {},
   "outputs": [
    {
     "name": "stdout",
     "output_type": "stream",
     "text": [
      "La media es:  0.7\n",
      "La varianza es:  0.21000000000000002\n",
      "El sesgo es:  -0.8728715609439702\n",
      "La curtosis es: -1.2380952380952361\n"
     ]
    }
   ],
   "source": [
    "p = 0.7\n",
    "mean, var, skew, kurt = bernoulli.stats(p, moments = 'mvsk')\n",
    "print('La media es: ',mean)\n",
    "print('La varianza es: ',var)\n",
    "print('El sesgo es: ', skew)\n",
    "print('La curtosis es:', kurt)"
   ]
  },
  {
   "cell_type": "code",
   "execution_count": 13,
   "metadata": {},
   "outputs": [
    {
     "name": "stdout",
     "output_type": "stream",
     "text": [
      "Generamos numeros aleatorios con la probabilidad de 0.7, asi observamos en el grafico que solo tenemos \n",
      " dos posibles resultados.\n"
     ]
    },
    {
     "data": {
      "image/png": "[encoded data removed]",
      "text/plain": [
       "<Figure size 432x288 with 1 Axes>"
      ]
     },
     "metadata": {
      "needs_background": "light"
     },
     "output_type": "display_data"
    }
   ],
   "source": [
    "print(\"Generamos numeros aleatorios con la probabilidad de 0.7, asi observamos en el grafico que solo tenemos \\n dos posibles resultados.\")\n",
    "fix, ax = plt.subplots(1,1)\n",
    "x = bernoulli.rvs(p, size = 1000)\n",
    "ax.hist(x)\n",
    "plt.show()"
   ]
  }
 ],
 "metadata": {
  "kernelspec": {
   "display_name": "Python 3",
   "language": "python",
   "name": "python3"
  },
  "language_info": {
   "codemirror_mode": {
    "name": "ipython",
    "version": 3
   },
   "file_extension": ".py",
   "mimetype": "text/x-python",
   "name": "python",
   "nbconvert_exporter": "python",
   "pygments_lexer": "ipython3",
   "version": "3.7.4"
  }
 },
 "nbformat": 4,
 "nbformat_minor": 2
}
