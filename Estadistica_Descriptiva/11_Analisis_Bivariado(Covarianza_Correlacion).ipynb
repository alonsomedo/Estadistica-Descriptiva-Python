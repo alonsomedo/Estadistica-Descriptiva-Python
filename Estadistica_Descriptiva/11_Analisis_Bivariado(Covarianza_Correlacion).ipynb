{
 "cells": [
  {
   "cell_type": "code",
   "execution_count": 1,
   "metadata": {},
   "outputs": [],
   "source": [
    "import seaborn as sb\n",
    "import pandas as pd\n",
    "import numpy as np\n",
    "import matplotlib.pyplot as plt\n",
    "%matplotlib inline"
   ]
  },
  {
   "cell_type": "markdown",
   "metadata": {},
   "source": [
    "# Analisis Bivariado\n",
    "\n",
    "Antes de entrar directamente al análisis bivariado, veremos el tema del Z-score."
   ]
  },
  {
   "cell_type": "markdown",
   "metadata": {},
   "source": [
    "## Z-Score\n",
    "\n",
    "El z-score es una medida estadisitica que cuantifica la distancia. Las puntuaciones z son desviaciones estándar. \n",
    "\n",
    "La formula para hallar el z-score es la siguiente:\n",
    "\n",
    "* $\\large z = \\frac {datapoint - mean}{standard deviation} $"
   ]
  },
  {
   "cell_type": "markdown",
   "metadata": {},
   "source": [
    "Tenemos el siguiente conjunto de datos como ejemplo:"
   ]
  },
  {
   "cell_type": "code",
   "execution_count": 2,
   "metadata": {},
   "outputs": [
    {
     "data": {
      "text/plain": [
       "array([85, 95, 70, 80, 90])"
      ]
     },
     "execution_count": 2,
     "metadata": {},
     "output_type": "execute_result"
    }
   ],
   "source": [
    "array = np.array([85, 95, 70, 80, 90])\n",
    "array"
   ]
  },
  {
   "cell_type": "markdown",
   "metadata": {},
   "source": [
    "1. Calcularemos la media y desviacion estandar"
   ]
  },
  {
   "cell_type": "code",
   "execution_count": 3,
   "metadata": {},
   "outputs": [
    {
     "name": "stdout",
     "output_type": "stream",
     "text": [
      "La media es: 84.0\n",
      "La desviacion estandar es: 8.602325267042627\n"
     ]
    }
   ],
   "source": [
    "mean = array.mean()\n",
    "sdt = array.std(ddof=False)\n",
    "print(f'La media es: {mean}')\n",
    "print(f'La desviacion estandar es: {sdt}')"
   ]
  },
  {
   "cell_type": "markdown",
   "metadata": {},
   "source": [
    "2. Calculamos el z-score para cada punto de datos."
   ]
  },
  {
   "cell_type": "code",
   "execution_count": 4,
   "metadata": {},
   "outputs": [
    {
     "data": {
      "text/plain": [
       "array([ 0.11624764,  1.27872403, -1.62746694, -0.46499055,  0.69748583])"
      ]
     },
     "execution_count": 4,
     "metadata": {},
     "output_type": "execute_result"
    }
   ],
   "source": [
    "z_score = (array-mean)/sdt\n",
    "z_score"
   ]
  },
  {
   "cell_type": "code",
   "execution_count": 5,
   "metadata": {},
   "outputs": [
    {
     "data": {
      "text/plain": [
       "array([ 0.11624764,  1.27872403, -1.62746694, -0.46499055,  0.69748583])"
      ]
     },
     "execution_count": 5,
     "metadata": {},
     "output_type": "execute_result"
    }
   ],
   "source": [
    "from scipy import stats\n",
    "stats.zscore(array)"
   ]
  },
  {
   "cell_type": "markdown",
   "metadata": {},
   "source": [
    "#### ¿Para que nos sirve el  Z-score?\n",
    "* Nos ayuda a responder que tan lejos esta cada punto respecto de la media\n",
    "\n",
    "#### ¿ Cuantas desviaciones estandar esta un punto de datos respecto de la media ?\n",
    "* La desviacion estandar se convierte en una regla de orden, una unidad de medida\n",
    "\n",
    "Debido a que al desviacion estandar es una medida de distancia respecto a la media. Asignaremos el valor de 0 (cero) a la medida como punto de partida."
   ]
  },
  {
   "cell_type": "markdown",
   "metadata": {},
   "source": [
    "#### Conclusion: \n",
    "\n",
    "Del ejemplo anterior podemos afirmar que el valor 80 esta alejado -0.46499055 desviaciones estandar respecto de la media 85."
   ]
  },
  {
   "cell_type": "markdown",
   "metadata": {},
   "source": [
    "## Coeficiente de variacion\n",
    "\n",
    "El coeficiente de variacion nos permite comparar la dispersion de dos distribuciones distintas, siempre que sus medias sean positivas.\n",
    "\n",
    "La formula es la siguiente:\n",
    "\n",
    "$\\large CV = \\frac{standard deviation}{mean}$"
   ]
  },
  {
   "cell_type": "markdown",
   "metadata": {},
   "source": [
    "# Covarianza \n",
    "\n",
    "La covarianza es una medida estadistica que nos ayuda a analizar la relacion lineal entre dos variables, ademas solo indica direccion pero no fuerza, es decir nos permite responder a la pregunta: ¿Como se comportan estas dos variables en pares?\n",
    "\n",
    "* Un valor positivo indica una relacion lineal positiva o incremental\n",
    "* Un valor negativo indica una relacion lineal negativa o decremental\n",
    "\n",
    "La fomrula de la covarianza muestral es:\n",
    "\n",
    "$\\large Cov(x,y) = \\frac{\\sum{(x - \\bar{x})(y - \\bar{y}) }}{(n-1)} $\n",
    "\n",
    "Donde: \n",
    "\n",
    "**x:** representa cada punto de la primera variable\n",
    "\n",
    "**y:** representa cada punto de la segunda variable\n"
   ]
  },
  {
   "cell_type": "code",
   "execution_count": 6,
   "metadata": {},
   "outputs": [
    {
     "name": "stdout",
     "output_type": "stream",
     "text": [
      "Cantidad: [10 20 30 40 50]\n",
      "Precio: [60 40 20 10  5]\n"
     ]
    }
   ],
   "source": [
    "cantidad = np.array([10, 20, 30, 40, 50])\n",
    "precio = np.array([60, 40, 20, 10, 5])\n",
    "print('Cantidad:', cantidad)\n",
    "print('Precio:', precio)"
   ]
  },
  {
   "cell_type": "code",
   "execution_count": 7,
   "metadata": {},
   "outputs": [
    {
     "name": "stdout",
     "output_type": "stream",
     "text": [
      "La media de la cantidad:  30.0\n",
      "La media del precio:  27.0\n"
     ]
    }
   ],
   "source": [
    "print('La media de la cantidad: ', cantidad.mean())\n",
    "print('La media del precio: ', precio.mean())"
   ]
  },
  {
   "cell_type": "code",
   "execution_count": 8,
   "metadata": {},
   "outputs": [
    {
     "name": "stdout",
     "output_type": "stream",
     "text": [
      "La varianza de la cantidad:  250.0\n",
      "La varianza del precio:  520.0\n"
     ]
    }
   ],
   "source": [
    "print('La varianza de la cantidad: ', cantidad.var(ddof=1))\n",
    "print('La varianza del precio: ', precio.var(ddof=1))"
   ]
  },
  {
   "cell_type": "code",
   "execution_count": 9,
   "metadata": {},
   "outputs": [
    {
     "data": {
      "text/plain": [
       "array([[ 250., -350.],\n",
       "       [-350.,  520.]])"
      ]
     },
     "execution_count": 9,
     "metadata": {},
     "output_type": "execute_result"
    }
   ],
   "source": [
    "np.cov(cantidad,precio)"
   ]
  },
  {
   "cell_type": "markdown",
   "metadata": {},
   "source": [
    "La covarianza entre las variables de cantidad es: -350, por lo que podemos afirmar que tienen una **relacion lineal negativa**"
   ]
  },
  {
   "cell_type": "code",
   "execution_count": 10,
   "metadata": {},
   "outputs": [
    {
     "data": {
      "image/png": "[encoded data removed]",
      "text/plain": [
       "<Figure size 432x288 with 1 Axes>"
      ]
     },
     "metadata": {
      "needs_background": "light"
     },
     "output_type": "display_data"
    },
    {
     "name": "stdout",
     "output_type": "stream",
     "text": [
      "En el siguiente grafico observamos la relacion linear negativa entre las dos variable\n"
     ]
    }
   ],
   "source": [
    "plt.scatter(cantidad,precio)\n",
    "plt.title(\"Cantidad vs Precio\")\n",
    "plt.xlabel('Precio')\n",
    "plt.ylabel(\"Cantidad\")\n",
    "plt.show()\n",
    "print('En el siguiente grafico observamos la relacion linear negativa entre las dos variable')"
   ]
  },
  {
   "cell_type": "markdown",
   "metadata": {},
   "source": [
    "# Covarianza vs Correlacion"
   ]
  },
  {
   "cell_type": "markdown",
   "metadata": {},
   "source": [
    "La covarianza provee direccion (positiva, negativa, cercana a cero) en una relacion lineal de dos variables.\n",
    "    - La CORRELACION provee la direccion y la fuerza\n",
    "\n",
    "El resultado de la covarianza no tiene limite superior ni inferior, dependen de la escala de las variables.\n",
    "    - La CORRELACION se encuentra entre -1 y 1, ademas su escala es independiente de la escala de las variables\n",
    "    \n",
    "La covarianza no esta estandarizada\n",
    "    - La CORRELACION esta estandarizada (z-score)"
   ]
  },
  {
   "cell_type": "markdown",
   "metadata": {},
   "source": [
    "# Correlacion\n",
    "\n",
    "1. La correlacion solo es aplicable a RELACIONES LINEALES.\n",
    "2. La correlacion no significa CAUSALIDAD.\n",
    "3. Una correlacion FUERTE no es realmente significante, esto depende muchas veces de la muestra tomada.\n",
    "\n",
    "La formula de la correlacion es la siguiente:\n",
    "$\\large r = \\frac {Covariance(x,y)}{Std(x) * Std(y)} $\n",
    "\n",
    "Donde $r$ es el coeficiente de Pearson.\n",
    "\n",
    "Existe una regla de oro para comprobar si existe relacion entre las variables y es la siguiente:\n",
    "\n",
    "$\\large Si: |{r}| >= \\frac {2}{\\sqrt n}$, entonces existe correlacion. \n",
    "\n",
    "Donde $n$ es el numero de elementos."
   ]
  },
  {
   "cell_type": "code",
   "execution_count": 11,
   "metadata": {},
   "outputs": [
    {
     "data": {
      "image/png": "[encoded data removed]",
      "text/plain": [
       "<Figure size 1080x270 with 3 Axes>"
      ]
     },
     "metadata": {
      "needs_background": "light"
     },
     "output_type": "display_data"
    }
   ],
   "source": [
    "cantidad = np.array([10, 20, 30, 40, 50])\n",
    "precio = np.array([60, 40, 20, 10, 5])\n",
    "\n",
    "cantidad2 = np.array([10, 20, 30, 40, 50])\n",
    "precio2 = np.array([20, 40, 60, 80, 100])\n",
    "\n",
    "cantidad3 = np.array([15, 2, 5, 60, 50])\n",
    "precio3 = np.array([70, 40, 1, 10, 100])\n",
    "\n",
    "plt.figure(figsize=(12,3), dpi=90)\n",
    "plt.subplot(131)\n",
    "plt.scatter(cantidad,precio)\n",
    "plt.xlabel(\"Correlacion cercana a -1\")\n",
    "\n",
    "plt.subplot(132)\n",
    "plt.scatter(cantidad2,precio2)\n",
    "plt.xlabel(\"Correlacion cercana a +1\")\n",
    "\n",
    "plt.subplot(133)\n",
    "plt.scatter(cantidad3,precio3)\n",
    "plt.xlabel(\"Correlacion cercana a 0\")\n",
    "\n",
    "plt.suptitle('Patrones de Correlacion General', fontsize=16)\n",
    "\n",
    "plt.show()"
   ]
  },
  {
   "cell_type": "code",
   "execution_count": 12,
   "metadata": {},
   "outputs": [
    {
     "data": {
      "image/png": "[encoded data removed]",
      "text/plain": [
       "<Figure size 1080x270 with 3 Axes>"
      ]
     },
     "metadata": {
      "needs_background": "light"
     },
     "output_type": "display_data"
    }
   ],
   "source": [
    "cantidad = np.array([2, 3, 4, 5, 6])\n",
    "precio = np.array([4, 9, 16, 25, 36])\n",
    "\n",
    "cantidad2 = np.array([10, 20, 30, 40, 50])\n",
    "precio2 = np.power(cantidad2,3)\n",
    "\n",
    "cantidad3 = np.array([4, 6, 8, 20, 30])\n",
    "precio3 = np.exp(cantidad3)\n",
    "\n",
    "plt.figure(figsize=(12,3), dpi=90)\n",
    "plt.subplot(131)\n",
    "plt.scatter(cantidad,precio)\n",
    "plt.xlabel(\"Relacion Cuadrática\")\n",
    "\n",
    "plt.subplot(132)\n",
    "plt.scatter(cantidad2,precio2)\n",
    "plt.xlabel(\"Relación Cubica\")\n",
    "\n",
    "plt.subplot(133)\n",
    "plt.scatter(cantidad3,precio3)\n",
    "plt.xlabel(\"Relacion Exponencial\")\n",
    "\n",
    "plt.suptitle('Patrones de Correlacion NO LINEALES', fontsize=16)\n",
    "\n",
    "plt.show()"
   ]
  },
  {
   "cell_type": "markdown",
   "metadata": {},
   "source": [
    "## Ejemplo "
   ]
  },
  {
   "cell_type": "code",
   "execution_count": 13,
   "metadata": {},
   "outputs": [
    {
     "data": {
      "text/html": [
       "<div>\n",
       "<style scoped>\n",
       "    .dataframe tbody tr th:only-of-type {\n",
       "        vertical-align: middle;\n",
       "    }\n",
       "\n",
       "    .dataframe tbody tr th {\n",
       "        vertical-align: top;\n",
       "    }\n",
       "\n",
       "    .dataframe thead th {\n",
       "        text-align: right;\n",
       "    }\n",
       "</style>\n",
       "<table border=\"1\" class=\"dataframe\">\n",
       "  <thead>\n",
       "    <tr style=\"text-align: right;\">\n",
       "      <th></th>\n",
       "      <th>Unnamed: 0</th>\n",
       "      <th>TV</th>\n",
       "      <th>Radio</th>\n",
       "      <th>Newspaper</th>\n",
       "      <th>Sales</th>\n",
       "    </tr>\n",
       "  </thead>\n",
       "  <tbody>\n",
       "    <tr>\n",
       "      <td>0</td>\n",
       "      <td>1</td>\n",
       "      <td>230.1</td>\n",
       "      <td>37.8</td>\n",
       "      <td>69.2</td>\n",
       "      <td>22.1</td>\n",
       "    </tr>\n",
       "    <tr>\n",
       "      <td>1</td>\n",
       "      <td>2</td>\n",
       "      <td>44.5</td>\n",
       "      <td>39.3</td>\n",
       "      <td>45.1</td>\n",
       "      <td>10.4</td>\n",
       "    </tr>\n",
       "    <tr>\n",
       "      <td>2</td>\n",
       "      <td>3</td>\n",
       "      <td>17.2</td>\n",
       "      <td>45.9</td>\n",
       "      <td>69.3</td>\n",
       "      <td>9.3</td>\n",
       "    </tr>\n",
       "    <tr>\n",
       "      <td>3</td>\n",
       "      <td>4</td>\n",
       "      <td>151.5</td>\n",
       "      <td>41.3</td>\n",
       "      <td>58.5</td>\n",
       "      <td>18.5</td>\n",
       "    </tr>\n",
       "    <tr>\n",
       "      <td>4</td>\n",
       "      <td>5</td>\n",
       "      <td>180.8</td>\n",
       "      <td>10.8</td>\n",
       "      <td>58.4</td>\n",
       "      <td>12.9</td>\n",
       "    </tr>\n",
       "  </tbody>\n",
       "</table>\n",
       "</div>"
      ],
      "text/plain": [
       "   Unnamed: 0     TV  Radio  Newspaper  Sales\n",
       "0           1  230.1   37.8       69.2   22.1\n",
       "1           2   44.5   39.3       45.1   10.4\n",
       "2           3   17.2   45.9       69.3    9.3\n",
       "3           4  151.5   41.3       58.5   18.5\n",
       "4           5  180.8   10.8       58.4   12.9"
      ]
     },
     "execution_count": 13,
     "metadata": {},
     "output_type": "execute_result"
    }
   ],
   "source": [
    "df = pd.read_csv(\".\\datasets\\Advertising.csv\")\n",
    "df.head()"
   ]
  },
  {
   "cell_type": "markdown",
   "metadata": {},
   "source": [
    "Eliminamos la primera columna la cual es irrelevante para el analisis de correlacion"
   ]
  },
  {
   "cell_type": "code",
   "execution_count": 14,
   "metadata": {},
   "outputs": [
    {
     "data": {
      "text/html": [
       "<div>\n",
       "<style scoped>\n",
       "    .dataframe tbody tr th:only-of-type {\n",
       "        vertical-align: middle;\n",
       "    }\n",
       "\n",
       "    .dataframe tbody tr th {\n",
       "        vertical-align: top;\n",
       "    }\n",
       "\n",
       "    .dataframe thead th {\n",
       "        text-align: right;\n",
       "    }\n",
       "</style>\n",
       "<table border=\"1\" class=\"dataframe\">\n",
       "  <thead>\n",
       "    <tr style=\"text-align: right;\">\n",
       "      <th></th>\n",
       "      <th>TV</th>\n",
       "      <th>Radio</th>\n",
       "      <th>Newspaper</th>\n",
       "      <th>Sales</th>\n",
       "    </tr>\n",
       "  </thead>\n",
       "  <tbody>\n",
       "    <tr>\n",
       "      <td>0</td>\n",
       "      <td>230.1</td>\n",
       "      <td>37.8</td>\n",
       "      <td>69.2</td>\n",
       "      <td>22.1</td>\n",
       "    </tr>\n",
       "  </tbody>\n",
       "</table>\n",
       "</div>"
      ],
      "text/plain": [
       "      TV  Radio  Newspaper  Sales\n",
       "0  230.1   37.8       69.2   22.1"
      ]
     },
     "execution_count": 14,
     "metadata": {},
     "output_type": "execute_result"
    }
   ],
   "source": [
    "del df['Unnamed: 0']\n",
    "df.head(1)"
   ]
  },
  {
   "cell_type": "markdown",
   "metadata": {},
   "source": [
    "Calculamos la correlacion entre nuestras variables cuantitativas. "
   ]
  },
  {
   "cell_type": "code",
   "execution_count": 15,
   "metadata": {},
   "outputs": [
    {
     "data": {
      "text/html": [
       "<style  type=\"text/css\" >\n",
       "    #T_b1dfbd64_3fb2_11ea_9446_dbc71d836137row0_col0 {\n",
       "            background-color:  #b40426;\n",
       "            color:  #f1f1f1;\n",
       "        }    #T_b1dfbd64_3fb2_11ea_9446_dbc71d836137row0_col1 {\n",
       "            background-color:  #3b4cc0;\n",
       "            color:  #f1f1f1;\n",
       "        }    #T_b1dfbd64_3fb2_11ea_9446_dbc71d836137row0_col2 {\n",
       "            background-color:  #3b4cc0;\n",
       "            color:  #f1f1f1;\n",
       "        }    #T_b1dfbd64_3fb2_11ea_9446_dbc71d836137row0_col3 {\n",
       "            background-color:  #f7a688;\n",
       "            color:  #000000;\n",
       "        }    #T_b1dfbd64_3fb2_11ea_9446_dbc71d836137row1_col0 {\n",
       "            background-color:  #3b4cc0;\n",
       "            color:  #f1f1f1;\n",
       "        }    #T_b1dfbd64_3fb2_11ea_9446_dbc71d836137row1_col1 {\n",
       "            background-color:  #b40426;\n",
       "            color:  #f1f1f1;\n",
       "        }    #T_b1dfbd64_3fb2_11ea_9446_dbc71d836137row1_col2 {\n",
       "            background-color:  #a3c2fe;\n",
       "            color:  #000000;\n",
       "        }    #T_b1dfbd64_3fb2_11ea_9446_dbc71d836137row1_col3 {\n",
       "            background-color:  #cfdaea;\n",
       "            color:  #000000;\n",
       "        }    #T_b1dfbd64_3fb2_11ea_9446_dbc71d836137row2_col0 {\n",
       "            background-color:  #3b4cc0;\n",
       "            color:  #f1f1f1;\n",
       "        }    #T_b1dfbd64_3fb2_11ea_9446_dbc71d836137row2_col1 {\n",
       "            background-color:  #a5c3fe;\n",
       "            color:  #000000;\n",
       "        }    #T_b1dfbd64_3fb2_11ea_9446_dbc71d836137row2_col2 {\n",
       "            background-color:  #b40426;\n",
       "            color:  #f1f1f1;\n",
       "        }    #T_b1dfbd64_3fb2_11ea_9446_dbc71d836137row2_col3 {\n",
       "            background-color:  #3b4cc0;\n",
       "            color:  #f1f1f1;\n",
       "        }    #T_b1dfbd64_3fb2_11ea_9446_dbc71d836137row3_col0 {\n",
       "            background-color:  #f29072;\n",
       "            color:  #000000;\n",
       "        }    #T_b1dfbd64_3fb2_11ea_9446_dbc71d836137row3_col1 {\n",
       "            background-color:  #ead5c9;\n",
       "            color:  #000000;\n",
       "        }    #T_b1dfbd64_3fb2_11ea_9446_dbc71d836137row3_col2 {\n",
       "            background-color:  #7597f6;\n",
       "            color:  #000000;\n",
       "        }    #T_b1dfbd64_3fb2_11ea_9446_dbc71d836137row3_col3 {\n",
       "            background-color:  #b40426;\n",
       "            color:  #f1f1f1;\n",
       "        }</style><table id=\"T_b1dfbd64_3fb2_11ea_9446_dbc71d836137\" ><thead>    <tr>        <th class=\"blank level0\" ></th>        <th class=\"col_heading level0 col0\" >TV</th>        <th class=\"col_heading level0 col1\" >Radio</th>        <th class=\"col_heading level0 col2\" >Newspaper</th>        <th class=\"col_heading level0 col3\" >Sales</th>    </tr></thead><tbody>\n",
       "                <tr>\n",
       "                        <th id=\"T_b1dfbd64_3fb2_11ea_9446_dbc71d836137level0_row0\" class=\"row_heading level0 row0\" >TV</th>\n",
       "                        <td id=\"T_b1dfbd64_3fb2_11ea_9446_dbc71d836137row0_col0\" class=\"data row0 col0\" >1</td>\n",
       "                        <td id=\"T_b1dfbd64_3fb2_11ea_9446_dbc71d836137row0_col1\" class=\"data row0 col1\" >0.0548</td>\n",
       "                        <td id=\"T_b1dfbd64_3fb2_11ea_9446_dbc71d836137row0_col2\" class=\"data row0 col2\" >0.0566</td>\n",
       "                        <td id=\"T_b1dfbd64_3fb2_11ea_9446_dbc71d836137row0_col3\" class=\"data row0 col3\" >0.782</td>\n",
       "            </tr>\n",
       "            <tr>\n",
       "                        <th id=\"T_b1dfbd64_3fb2_11ea_9446_dbc71d836137level0_row1\" class=\"row_heading level0 row1\" >Radio</th>\n",
       "                        <td id=\"T_b1dfbd64_3fb2_11ea_9446_dbc71d836137row1_col0\" class=\"data row1 col0\" >0.0548</td>\n",
       "                        <td id=\"T_b1dfbd64_3fb2_11ea_9446_dbc71d836137row1_col1\" class=\"data row1 col1\" >1</td>\n",
       "                        <td id=\"T_b1dfbd64_3fb2_11ea_9446_dbc71d836137row1_col2\" class=\"data row1 col2\" >0.354</td>\n",
       "                        <td id=\"T_b1dfbd64_3fb2_11ea_9446_dbc71d836137row1_col3\" class=\"data row1 col3\" >0.576</td>\n",
       "            </tr>\n",
       "            <tr>\n",
       "                        <th id=\"T_b1dfbd64_3fb2_11ea_9446_dbc71d836137level0_row2\" class=\"row_heading level0 row2\" >Newspaper</th>\n",
       "                        <td id=\"T_b1dfbd64_3fb2_11ea_9446_dbc71d836137row2_col0\" class=\"data row2 col0\" >0.0566</td>\n",
       "                        <td id=\"T_b1dfbd64_3fb2_11ea_9446_dbc71d836137row2_col1\" class=\"data row2 col1\" >0.354</td>\n",
       "                        <td id=\"T_b1dfbd64_3fb2_11ea_9446_dbc71d836137row2_col2\" class=\"data row2 col2\" >1</td>\n",
       "                        <td id=\"T_b1dfbd64_3fb2_11ea_9446_dbc71d836137row2_col3\" class=\"data row2 col3\" >0.228</td>\n",
       "            </tr>\n",
       "            <tr>\n",
       "                        <th id=\"T_b1dfbd64_3fb2_11ea_9446_dbc71d836137level0_row3\" class=\"row_heading level0 row3\" >Sales</th>\n",
       "                        <td id=\"T_b1dfbd64_3fb2_11ea_9446_dbc71d836137row3_col0\" class=\"data row3 col0\" >0.782</td>\n",
       "                        <td id=\"T_b1dfbd64_3fb2_11ea_9446_dbc71d836137row3_col1\" class=\"data row3 col1\" >0.576</td>\n",
       "                        <td id=\"T_b1dfbd64_3fb2_11ea_9446_dbc71d836137row3_col2\" class=\"data row3 col2\" >0.228</td>\n",
       "                        <td id=\"T_b1dfbd64_3fb2_11ea_9446_dbc71d836137row3_col3\" class=\"data row3 col3\" >1</td>\n",
       "            </tr>\n",
       "    </tbody></table>"
      ],
      "text/plain": [
       "<pandas.io.formats.style.Styler at 0x20824ea8508>"
      ]
     },
     "execution_count": 15,
     "metadata": {},
     "output_type": "execute_result"
    }
   ],
   "source": [
    "corr_matrix = df.corr(method='pearson')\n",
    "corr_matrix.style.background_gradient(cmap='coolwarm').set_precision(3)"
   ]
  },
  {
   "cell_type": "code",
   "execution_count": 17,
   "metadata": {},
   "outputs": [
    {
     "data": {
      "image/png": "[encoded data removed]",
      "text/plain": [
       "<Figure size 432x288 with 2 Axes>"
      ]
     },
     "metadata": {
      "needs_background": "light"
     },
     "output_type": "display_data"
    }
   ],
   "source": [
    "# Usando seaborn\n",
    "sb.heatmap(corr_matrix, square=True, annot=True)\n",
    "plt.show()"
   ]
  }
 ],
 "metadata": {
  "kernelspec": {
   "display_name": "Python 3",
   "language": "python",
   "name": "python3"
  },
  "language_info": {
   "codemirror_mode": {
    "name": "ipython",
    "version": 3
   },
   "file_extension": ".py",
   "mimetype": "text/x-python",
   "name": "python",
   "nbconvert_exporter": "python",
   "pygments_lexer": "ipython3",
   "version": "3.7.4"
  }
 },
 "nbformat": 4,
 "nbformat_minor": 2
}
