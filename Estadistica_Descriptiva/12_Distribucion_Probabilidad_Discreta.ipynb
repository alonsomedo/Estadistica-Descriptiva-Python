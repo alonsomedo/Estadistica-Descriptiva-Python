{
 "cells": [
  {
   "cell_type": "code",
   "execution_count": 42,
   "metadata": {},
   "outputs": [],
   "source": [
    "import pandas as pd\n",
    "import numpy as np\n",
    "import matplotlib.pyplot as plt\n",
    "df = pd.read_excel('./datasets/v_discreta.xlsx')"
   ]
  },
  {
   "cell_type": "markdown",
   "metadata": {},
   "source": [
    "# Probabilidades"
   ]
  },
  {
   "cell_type": "markdown",
   "metadata": {},
   "source": [
    "* Experimento aleatorio: es un experimento que realizado bajo las mismas condiciones puede dar resultados diferentes.\n",
    "* Suceso elemental: es cada uno de los posibles resultados del experimento.\n",
    "* Espacio muestral: conjunto ${\\Omega}$ formado por todos los sucesos elementales del experimento aleatorio.\n",
    "\n",
    "Ejemplo:\n",
    "- Experimento aleatorio: Lanzar una moneda.\n",
    "- Suceso elemental: caro (C) o Sello(S)\n",
    "- Espacio muestral: $\\Omega$ = {C,S}"
   ]
  },
  {
   "cell_type": "markdown",
   "metadata": {},
   "source": [
    "## Variable aleatoria Discreta\n",
    "Podemos denotar a una variable aleatoria con la letra capital $X$.\n",
    "\n",
    "Una variable puede ser aleatoria discreta cuando:\n",
    "1. Tiene un numero finito de valores. Ejemplo: las caras de un dado. \n",
    "2. Es una secuencia infinita de valores. Ejemplo: 1,2,3,4,5,6 .... . Cuantas personas entran a KFC cada 15minutos.\n",
    "\n",
    "En el caso de lanzar una moneda solo existen 2 posibles resultados cara o sello, por lo que la variable aleatoria discreta puede ser definida como:\n",
    "\n",
    "$ x = 0, 1$"
   ]
  },
  {
   "cell_type": "markdown",
   "metadata": {},
   "source": [
    "## Funcion de Densidad\n",
    "Nos indica la probabilidad para que suceda un determinado evento. Solo toma valores $\"x\"$ que se encuentren dentro del dominio.\n",
    "\n",
    "$f(x) = P(X=x)$"
   ]
  },
  {
   "cell_type": "markdown",
   "metadata": {},
   "source": [
    "## Valor Esperado o Esperanza:\n",
    "El valor esperado o esperanza de una variable aleatoria discreta indica el valor promedio al que tiende la variable cuando\n",
    "el numero de ensayos del experimento tiende a infinito. Se define como:\n",
    "\n",
    "$E(X) = \\sum x * f(x)$\n",
    "\n",
    "$E(X) = \\mu$"
   ]
  },
  {
   "cell_type": "markdown",
   "metadata": {},
   "source": [
    "# Distribuciones de Probabilidad Discreta\n",
    "\n",
    "La probabilidad de distribución de una variable aleatoria $X$ describe como las probabilidades son asignadas para cada resultado de la variable aleatoria"
   ]
  },
  {
   "cell_type": "markdown",
   "metadata": {},
   "source": [
    "La probabilidad de cada resultado es descrito por una funcion de probabilidad (densidad) denotado como $P(x)$."
   ]
  },
  {
   "cell_type": "code",
   "execution_count": 19,
   "metadata": {},
   "outputs": [
    {
     "data": {
      "text/html": [
       "<div>\n",
       "<style scoped>\n",
       "    .dataframe tbody tr th:only-of-type {\n",
       "        vertical-align: middle;\n",
       "    }\n",
       "\n",
       "    .dataframe tbody tr th {\n",
       "        vertical-align: top;\n",
       "    }\n",
       "\n",
       "    .dataframe thead th {\n",
       "        text-align: right;\n",
       "    }\n",
       "</style>\n",
       "<table border=\"1\" class=\"dataframe\">\n",
       "  <thead>\n",
       "    <tr style=\"text-align: right;\">\n",
       "      <th></th>\n",
       "      <th>x</th>\n",
       "      <th>P(x)</th>\n",
       "    </tr>\n",
       "  </thead>\n",
       "  <tbody>\n",
       "    <tr>\n",
       "      <th>0</th>\n",
       "      <td>1</td>\n",
       "      <td>0.166667</td>\n",
       "    </tr>\n",
       "    <tr>\n",
       "      <th>1</th>\n",
       "      <td>2</td>\n",
       "      <td>0.166667</td>\n",
       "    </tr>\n",
       "    <tr>\n",
       "      <th>2</th>\n",
       "      <td>3</td>\n",
       "      <td>0.166667</td>\n",
       "    </tr>\n",
       "    <tr>\n",
       "      <th>3</th>\n",
       "      <td>4</td>\n",
       "      <td>0.166667</td>\n",
       "    </tr>\n",
       "    <tr>\n",
       "      <th>4</th>\n",
       "      <td>5</td>\n",
       "      <td>0.166667</td>\n",
       "    </tr>\n",
       "    <tr>\n",
       "      <th>5</th>\n",
       "      <td>6</td>\n",
       "      <td>0.166667</td>\n",
       "    </tr>\n",
       "  </tbody>\n",
       "</table>\n",
       "</div>"
      ],
      "text/plain": [
       "   x      P(x)\n",
       "0  1  0.166667\n",
       "1  2  0.166667\n",
       "2  3  0.166667\n",
       "3  4  0.166667\n",
       "4  5  0.166667\n",
       "5  6  0.166667"
      ]
     },
     "execution_count": 19,
     "metadata": {},
     "output_type": "execute_result"
    }
   ],
   "source": [
    "dado_df = df.query('flag == \"dado\" ')[['x','P(x)']]\n",
    "dado_df"
   ]
  },
  {
   "cell_type": "markdown",
   "metadata": {},
   "source": [
    "¿ Cual sería la probabilidad de obtener un 2 o 5 en un lanzamiento? \n",
    "\n",
    "x = 2,5\n",
    "\n",
    "**P(x) = 0.166667 + 0.166667 = 0.333334**"
   ]
  },
  {
   "cell_type": "markdown",
   "metadata": {},
   "source": [
    "Condiciones para probabilidades discretas:\n",
    "1. 0 <= P(x) <= 1\n",
    "2. $\\sum$ P(x) = 1"
   ]
  },
  {
   "cell_type": "markdown",
   "metadata": {},
   "source": [
    "Supongamos que realizamos una encuesta para medir la satisfaccion del cliente respecto a uno de nuestros servicios siendo\n",
    "teniendo como escala (1 = muy insatisfecho, 2 = insatisfecho, 3 = neutral, 4 = satisfecho, 5 = muy satisfecho). ¿Cual seria\n",
    "el valor esperado o promedio?"
   ]
  },
  {
   "cell_type": "code",
   "execution_count": 37,
   "metadata": {},
   "outputs": [
    {
     "data": {
      "text/html": [
       "<div>\n",
       "<style scoped>\n",
       "    .dataframe tbody tr th:only-of-type {\n",
       "        vertical-align: middle;\n",
       "    }\n",
       "\n",
       "    .dataframe tbody tr th {\n",
       "        vertical-align: top;\n",
       "    }\n",
       "\n",
       "    .dataframe thead th {\n",
       "        text-align: right;\n",
       "    }\n",
       "</style>\n",
       "<table border=\"1\" class=\"dataframe\">\n",
       "  <thead>\n",
       "    <tr style=\"text-align: right;\">\n",
       "      <th></th>\n",
       "      <th>x</th>\n",
       "      <th>Count</th>\n",
       "      <th>P(x)</th>\n",
       "      <th>xP(x)</th>\n",
       "    </tr>\n",
       "  </thead>\n",
       "  <tbody>\n",
       "    <tr>\n",
       "      <th>6</th>\n",
       "      <td>1</td>\n",
       "      <td>5.0</td>\n",
       "      <td>0.046296</td>\n",
       "      <td>0.046296</td>\n",
       "    </tr>\n",
       "    <tr>\n",
       "      <th>7</th>\n",
       "      <td>2</td>\n",
       "      <td>10.0</td>\n",
       "      <td>0.092593</td>\n",
       "      <td>0.185185</td>\n",
       "    </tr>\n",
       "    <tr>\n",
       "      <th>8</th>\n",
       "      <td>3</td>\n",
       "      <td>11.0</td>\n",
       "      <td>0.101852</td>\n",
       "      <td>0.305556</td>\n",
       "    </tr>\n",
       "    <tr>\n",
       "      <th>9</th>\n",
       "      <td>4</td>\n",
       "      <td>44.0</td>\n",
       "      <td>0.407407</td>\n",
       "      <td>1.629630</td>\n",
       "    </tr>\n",
       "    <tr>\n",
       "      <th>10</th>\n",
       "      <td>5</td>\n",
       "      <td>38.0</td>\n",
       "      <td>0.351852</td>\n",
       "      <td>1.759259</td>\n",
       "    </tr>\n",
       "  </tbody>\n",
       "</table>\n",
       "</div>"
      ],
      "text/plain": [
       "    x  Count      P(x)     xP(x)\n",
       "6   1    5.0  0.046296  0.046296\n",
       "7   2   10.0  0.092593  0.185185\n",
       "8   3   11.0  0.101852  0.305556\n",
       "9   4   44.0  0.407407  1.629630\n",
       "10  5   38.0  0.351852  1.759259"
      ]
     },
     "execution_count": 37,
     "metadata": {},
     "output_type": "execute_result"
    }
   ],
   "source": [
    "satisfaccion_df = df.query('flag == \"satisfaccion\" ')[['x','Count','P(x)', 'xP(x)']]\n",
    "satisfaccion_df"
   ]
  },
  {
   "cell_type": "code",
   "execution_count": 34,
   "metadata": {},
   "outputs": [
    {
     "name": "stdout",
     "output_type": "stream",
     "text": [
      "El valor esperado seria: 3.9259259259259256\n"
     ]
    }
   ],
   "source": [
    "expected_value = satisfaccion_df['xP(x)'].sum()\n",
    "print(f'El valor esperado seria: {expected_value}')"
   ]
  },
  {
   "cell_type": "markdown",
   "metadata": {},
   "source": [
    "## Varianza de una variable aleatoria discreta\n",
    "\n",
    "Podemos usar la varianza y desviacion estandar de una variable aleatoria discreta para ver que tan dispersa es con respecto a su media.\n",
    "\n",
    "La formula es la siguiente: \n",
    "\n",
    "$Var(x) = \\sum (x-\\mu)^2 * P(x)$"
   ]
  },
  {
   "cell_type": "markdown",
   "metadata": {},
   "source": [
    "Por ejemplo analicemos la varianza cuando lanzamos un dado."
   ]
  },
  {
   "cell_type": "code",
   "execution_count": 60,
   "metadata": {},
   "outputs": [
    {
     "name": "stdout",
     "output_type": "stream",
     "text": [
      "Tenemos el cuadro paso a paso como calculamos la varianza\n"
     ]
    },
    {
     "data": {
      "text/html": [
       "<div>\n",
       "<style scoped>\n",
       "    .dataframe tbody tr th:only-of-type {\n",
       "        vertical-align: middle;\n",
       "    }\n",
       "\n",
       "    .dataframe tbody tr th {\n",
       "        vertical-align: top;\n",
       "    }\n",
       "\n",
       "    .dataframe thead th {\n",
       "        text-align: right;\n",
       "    }\n",
       "</style>\n",
       "<table border=\"1\" class=\"dataframe\">\n",
       "  <thead>\n",
       "    <tr style=\"text-align: right;\">\n",
       "      <th></th>\n",
       "      <th>x</th>\n",
       "      <th>P(x)</th>\n",
       "      <th>E(x)</th>\n",
       "      <th>x-E(x)</th>\n",
       "      <th>(x-E(x))^2</th>\n",
       "      <th>((x-E(x))^2) * P(x)</th>\n",
       "    </tr>\n",
       "  </thead>\n",
       "  <tbody>\n",
       "    <tr>\n",
       "      <th>0</th>\n",
       "      <td>1</td>\n",
       "      <td>0.166667</td>\n",
       "      <td>3.5</td>\n",
       "      <td>-2.5</td>\n",
       "      <td>6.25</td>\n",
       "      <td>1.041667</td>\n",
       "    </tr>\n",
       "    <tr>\n",
       "      <th>1</th>\n",
       "      <td>2</td>\n",
       "      <td>0.166667</td>\n",
       "      <td>3.5</td>\n",
       "      <td>-1.5</td>\n",
       "      <td>2.25</td>\n",
       "      <td>0.375000</td>\n",
       "    </tr>\n",
       "    <tr>\n",
       "      <th>2</th>\n",
       "      <td>3</td>\n",
       "      <td>0.166667</td>\n",
       "      <td>3.5</td>\n",
       "      <td>-0.5</td>\n",
       "      <td>0.25</td>\n",
       "      <td>0.041667</td>\n",
       "    </tr>\n",
       "    <tr>\n",
       "      <th>3</th>\n",
       "      <td>4</td>\n",
       "      <td>0.166667</td>\n",
       "      <td>3.5</td>\n",
       "      <td>0.5</td>\n",
       "      <td>0.25</td>\n",
       "      <td>0.041667</td>\n",
       "    </tr>\n",
       "    <tr>\n",
       "      <th>4</th>\n",
       "      <td>5</td>\n",
       "      <td>0.166667</td>\n",
       "      <td>3.5</td>\n",
       "      <td>1.5</td>\n",
       "      <td>2.25</td>\n",
       "      <td>0.375000</td>\n",
       "    </tr>\n",
       "    <tr>\n",
       "      <th>5</th>\n",
       "      <td>6</td>\n",
       "      <td>0.166667</td>\n",
       "      <td>3.5</td>\n",
       "      <td>2.5</td>\n",
       "      <td>6.25</td>\n",
       "      <td>1.041667</td>\n",
       "    </tr>\n",
       "  </tbody>\n",
       "</table>\n",
       "</div>"
      ],
      "text/plain": [
       "   x      P(x)  E(x)  x-E(x)  (x-E(x))^2  ((x-E(x))^2) * P(x)\n",
       "0  1  0.166667   3.5    -2.5        6.25             1.041667\n",
       "1  2  0.166667   3.5    -1.5        2.25             0.375000\n",
       "2  3  0.166667   3.5    -0.5        0.25             0.041667\n",
       "3  4  0.166667   3.5     0.5        0.25             0.041667\n",
       "4  5  0.166667   3.5     1.5        2.25             0.375000\n",
       "5  6  0.166667   3.5     2.5        6.25             1.041667"
      ]
     },
     "execution_count": 60,
     "metadata": {},
     "output_type": "execute_result"
    }
   ],
   "source": [
    "print('Tenemos el cuadro paso a paso como calculamos la varianza')\n",
    "var_dado_df = df.query('flag == \"dado\" ')[['x','P(x)','E(x)', 'x-E(x)', '(x-E(x))^2', '((x-E(x))^2) * P(x)']]\n",
    "var_dado_df"
   ]
  },
  {
   "cell_type": "code",
   "execution_count": 50,
   "metadata": {},
   "outputs": [
    {
     "data": {
      "image/png": "[encoded data removed]",
      "text/plain": [
       "<Figure size 432x288 with 1 Axes>"
      ]
     },
     "metadata": {
      "needs_background": "light"
     },
     "output_type": "display_data"
    }
   ],
   "source": [
    "var_dado_df['P(x)'].plot(kind=\"bar\")\n",
    "plt.show()"
   ]
  },
  {
   "cell_type": "code",
   "execution_count": 61,
   "metadata": {},
   "outputs": [
    {
     "name": "stdout",
     "output_type": "stream",
     "text": [
      "La varianza es de: 2.9166666666666665 \n",
      "La desviacion estandar es de: 1.707825127659933\n",
      "\n",
      "Somos capaces de afirmar que los 4/6 o 2/3 o 67% de los resultados estan entre +1 o -1 desviacion estandar con respecto de la media\n"
     ]
    }
   ],
   "source": [
    "var = var_dado_df['((x-E(x))^2) * P(x)'].sum()\n",
    "sd = np.power(var,0.5)\n",
    "print(f'La varianza es de: {var} ')\n",
    "print(f'La desviacion estandar es de: {sd}')\n",
    "print('\\nSomos capaces de afirmar que los 4/6 o 2/3 o 67% de los resultados estan entre +1 o -1 desviacion estandar con respecto de la media')"
   ]
  }
 ],
 "metadata": {
  "kernelspec": {
   "display_name": "Python 3",
   "language": "python",
   "name": "python3"
  },
  "language_info": {
   "codemirror_mode": {
    "name": "ipython",
    "version": 3
   },
   "file_extension": ".py",
   "mimetype": "text/x-python",
   "name": "python",
   "nbconvert_exporter": "python",
   "pygments_lexer": "ipython3",
   "version": "3.7.4"
  }
 },
 "nbformat": 4,
 "nbformat_minor": 2
}
