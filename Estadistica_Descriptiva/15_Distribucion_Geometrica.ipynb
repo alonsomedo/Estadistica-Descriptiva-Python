{
 "cells": [
  {
   "cell_type": "code",
   "execution_count": 4,
   "metadata": {},
   "outputs": [],
   "source": [
    "import pandas as pd\n",
    "import numpy as np\n",
    "import matplotlib.pyplot as plt\n",
    "from scipy.stats import geom"
   ]
  },
  {
   "cell_type": "markdown",
   "metadata": {},
   "source": [
    "# Distribución Geométrica (Discreta)"
   ]
  },
  {
   "cell_type": "markdown",
   "metadata": {},
   "source": [
    "Si $X$ es variable aleatoria que mide el \"numero de repeticiones independientes del experimento hasta obtener el éxito\", diremos que $X$ se distribuye como una Geométrica con parametro $p$.\n",
    "<br>\n",
    "<center> $\\large X$ ~ $Ge(p)$ </center>\n",
    "<br>\n",
    "donde $p$ es la probabilidad de exito y $q = 1 -p$ es la probabilidad de fracaso.\n",
    "\n",
    "- El dominio de $X$ será $D_{X}$ = {0,1,2,...} o bien $D_{X}$ = {1,2,3, ...} en funcion de si empieza en 0 o en 1, respectivamente. (medimos los fracasos hasta conseguir el exito, por eso empieza en 0 o medimos los intentos hasta conseguir el exito, por eso empieza en 1)\n",
    "<br><br>\n",
    "- La funcion de densidad será:\n",
    "<center> $\\large f(k) = (1-p)^{k} * p$, si empieza en 0 </center>\n",
    "<center> $\\large f(k) = (1-p)^{k-1} * p$, si empieza en 1 </center>\n",
    "\n"
   ]
  },
  {
   "cell_type": "markdown",
   "metadata": {},
   "source": [
    "## Ejemplos:\n",
    "- Un borracho va a casa e intenta abrir su puerta, saca el manejo de llaves y empieza a probar luego se le cae el manojo y asi sucesivamente hasta abrir la puerta. \n",
    "<br><br>\n",
    "- El numero de intentos que hay que hacer hasta conseguir un hijo."
   ]
  },
  {
   "cell_type": "code",
   "execution_count": 59,
   "metadata": {},
   "outputs": [
    {
     "name": "stdout",
     "output_type": "stream",
     "text": [
      "La media es: 3.3333333333333335\n",
      "La varianza es: 7.777777777777779\n",
      "El sesgo es: 2.031888635868469\n",
      "La curtosis es: 6.128571428571429\n"
     ]
    },
    {
     "data": {
      "image/png": "[encoded data removed]",
      "text/plain": [
       "<Figure size 576x288 with 2 Axes>"
      ]
     },
     "metadata": {
      "needs_background": "light"
     },
     "output_type": "display_data"
    }
   ],
   "source": [
    "p = 0.3\n",
    "mean, var, skew, kurt = geom.stats(p, moments ='mvsk')\n",
    "print(f'La media es: {mean}')\n",
    "print(f'La varianza es: {var}')\n",
    "print(f'El sesgo es: {skew}')\n",
    "print(f'La curtosis es: {kurt}')\n",
    "x = np.arange(1,10)\n",
    "plt.figure(1, figsize = (8,4))\n",
    "plt.subplot(121)\n",
    "plt.plot(x, geom.pmf(x,p), 'bo', ms = 8)\n",
    "plt.title('Funcion de probabilidad de Geom(0.1)')\n",
    "\n",
    "plt.subplot(122)\n",
    "plt.plot(x, geom.cdf(x,p), 'bo', ms = 8)\n",
    "plt.title('Funcion de distribucion de Geom(0.1)')\n",
    "\n",
    "plt.show()\n"
   ]
  },
  {
   "cell_type": "markdown",
   "metadata": {},
   "source": [
    "Interpretacion: La probabilidad de que un borracho abra la puerta en el primer intento es de 0.30. "
   ]
  }
 ],
 "metadata": {
  "kernelspec": {
   "display_name": "Python 3",
   "language": "python",
   "name": "python3"
  },
  "language_info": {
   "codemirror_mode": {
    "name": "ipython",
    "version": 3
   },
   "file_extension": ".py",
   "mimetype": "text/x-python",
   "name": "python",
   "nbconvert_exporter": "python",
   "pygments_lexer": "ipython3",
   "version": "3.7.4"
  }
 },
 "nbformat": 4,
 "nbformat_minor": 2
}
