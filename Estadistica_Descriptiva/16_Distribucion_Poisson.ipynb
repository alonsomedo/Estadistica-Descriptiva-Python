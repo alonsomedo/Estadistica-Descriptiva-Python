{
 "cells": [
  {
   "cell_type": "code",
   "execution_count": 1,
   "metadata": {},
   "outputs": [],
   "source": [
    "import numpy as np\n",
    "import pandas as pd\n",
    "import matplotlib.pyplot as plt\n",
    "from scipy.stats import poisson"
   ]
  },
  {
   "cell_type": "markdown",
   "metadata": {},
   "source": [
    "# Distribucion de Poisson (Discreta)"
   ]
  },
  {
   "cell_type": "markdown",
   "metadata": {},
   "source": [
    "Se enfoca sobre un numero discreto de eventos/experimentos en un intervalo especifico o continuo (tiempo, distancia, tamaño, etc).\n",
    "\n",
    "$\\large P(X) =$ $\\LARGE \\frac{\\lambda^{x} * e^{-\\lambda}}{x!}$\n"
   ]
  },
  {
   "cell_type": "markdown",
   "metadata": {},
   "source": [
    "## Valor Esperado\n",
    "\n",
    "$\\large \\lambda =  \\frac {\\# eventos}{intervalo especifico} $\n",
    "\n",
    "$\\large E(X) = \\mu = \\lambda $\n",
    "\n",
    "Recuerda $\\mu$ (mu) es equivalente a $\\lambda$ (lambda)"
   ]
  },
  {
   "cell_type": "markdown",
   "metadata": {},
   "source": [
    "## Caracteristicas de la Distribucion\n",
    "\n",
    "1. Resultado (outcome) discreto (x = 1,2,3,4,...)\n",
    "2. El numero de eventos en cada intervalo puede tener un rango de 0 a infinito (teoricamente). $\\large 0 <= x <= \\infty\n",
    "3. Describe la distribucion de eventos poco frecuentes\n",
    "4. Cada evento es independiente de los demas eventos.\n",
    "5. Describe eventos discreto sobre un intervalo (tiempo, distancia, etc).\n",
    "6. El valor esperado E(X) será asumido como constante durante el experimento.\n"
   ]
  },
  {
   "cell_type": "markdown",
   "metadata": {},
   "source": [
    "## Ejemplo 1:\n",
    "Un banco esta interesado en estudiar el numero de personas que usa ATM's localizados fuera de sus oficinas por la noche.\n",
    "\n",
    "En promedio 1.6 clientes utilizan los ATM's cada 10 minutos entre las 9 y 12 de la noche. Con esta información puede indicarnos:\n",
    "\n",
    "1. ¿Cual es lambda para este problema?\n",
    "2. ¿Cual es la probabilidad que exactamente 3 clientes usen los ATM's en un intervalo de 10 minutos?\n",
    "3. ¿Cual es la probabilidad que 3 o menos clientes usen lso ATM's en el mismo intervalo?"
   ]
  },
  {
   "cell_type": "code",
   "execution_count": 2,
   "metadata": {},
   "outputs": [
    {
     "name": "stdout",
     "output_type": "stream",
     "text": [
      "La media es:  1.6\n",
      "La varianza es:  1.6\n",
      "El sesgo es:  0.7905694150420949\n",
      "La curtosis es: 0.625\n"
     ]
    },
    {
     "data": {
      "image/png": "[encoded data removed]",
      "text/plain": [
       "<Figure size 1080x288 with 2 Axes>"
      ]
     },
     "metadata": {
      "needs_background": "light"
     },
     "output_type": "display_data"
    }
   ],
   "source": [
    "plt.figure(1, figsize=(15,4))\n",
    "\n",
    "_lambda = 1.6\n",
    "mean, var, skew, kurt = poisson.stats(_lambda, moments='mvsk')\n",
    "print('La media es: ',mean)\n",
    "print('La varianza es: ', var)\n",
    "print('El sesgo es: ', skew)\n",
    "print('La curtosis es:', kurt)\n",
    "\n",
    "x = np.arange(0,15)\n",
    "pmf = poisson.pmf(x,_lambda)\n",
    "cdf = poisson.cdf(x,_lambda)\n",
    "\n",
    "plt.subplot(121)\n",
    "plt.bar(x,pmf)\n",
    "plt.xlabel('# Clientes')\n",
    "plt.ylabel('Probabilidad')\n",
    "plt.title('Funcion de Probabilidad')\n",
    "\n",
    "plt.subplot(122)\n",
    "plt.scatter(x,cdf)\n",
    "plt.xlabel('# Clientes')\n",
    "plt.ylabel('Probabilidad')\n",
    "plt.title('Funcion de Distribucion')\n",
    "\n",
    "plt.show()"
   ]
  },
  {
   "cell_type": "code",
   "execution_count": 3,
   "metadata": {},
   "outputs": [
    {
     "name": "stdout",
     "output_type": "stream",
     "text": [
      "Lambda tiene un valor de:  1.6\n",
      "La probabilidad que exactamente 3 clientes ingresen es de:  0.13782802295101812\n",
      "La probabilidad que ingresen 3 o menos clientes es de:  0.9211865127702811\n"
     ]
    }
   ],
   "source": [
    "print('Lambda tiene un valor de: ', _lambda)\n",
    "print('La probabilidad que exactamente 3 clientes ingresen es de: ', pmf[3])\n",
    "print('La probabilidad que ingresen 3 o menos clientes es de: ', cdf[3])"
   ]
  },
  {
   "cell_type": "markdown",
   "metadata": {},
   "source": [
    "## Ejemplo 2:\n",
    "El departamento de Transporte de Indiana esta preocupado por el numero de ciervos relacionados en atropellos y accidentes relacionados con automoviles entre Martinsville y Bloomington.\n",
    "\n",
    "Ellos se dan cuenta que el numero de ciervos atropellados y de ciervos relacionados con accidentes. El camino de Martinsville a Bloomington es de 20 millas y se tiene la siguiente informacion de accidentes por cada dos millas: \n",
    "[6 , 0, 2, 5, 9, 0, 4, 3, 5, 2] (Son los accidentes ocurridos cada 2 millas - 10 intervalos)\n",
    "\n",
    "Con la informacion brindada nos piden responder:\n",
    "1. ¿Cual es la probabilidad que ningun ciervo este relacionado en un accidente?\n",
    "2. ¿Cual es la probabilidad P(x >= 9)?\n",
    "3. ¿Que valores para x (#accidentes de ciervos) estan por debajo de 0.95 en la distribucion acumulada?"
   ]
  },
  {
   "cell_type": "code",
   "execution_count": 4,
   "metadata": {},
   "outputs": [
    {
     "name": "stdout",
     "output_type": "stream",
     "text": [
      "Calculamos nuestro lambda.\n",
      "El valor de lambda es:  3.6\n"
     ]
    }
   ],
   "source": [
    "print('Calculamos nuestro lambda.')\n",
    "_lambda = (6+0+2+5+9+0+4+3+5+2)/10\n",
    "print('El valor de lambda es: ',_lambda)"
   ]
  },
  {
   "cell_type": "code",
   "execution_count": 5,
   "metadata": {},
   "outputs": [
    {
     "name": "stdout",
     "output_type": "stream",
     "text": [
      "La media es:  3.6\n",
      "La varianza es:  3.6\n",
      "El sesgo es:  0.5270462766947299\n",
      "La curtosis es: 0.2777777777777778\n"
     ]
    },
    {
     "data": {
      "image/png": "[encoded data removed]",
      "text/plain": [
       "<Figure size 1080x288 with 2 Axes>"
      ]
     },
     "metadata": {
      "needs_background": "light"
     },
     "output_type": "display_data"
    }
   ],
   "source": [
    "plt.figure(1, figsize=(15,4))\n",
    "\n",
    "_lambda = 3.6\n",
    "mean, var, skew, kurt = poisson.stats(_lambda, moments='mvsk')\n",
    "print('La media es: ',mean)\n",
    "print('La varianza es: ', var)\n",
    "print('El sesgo es: ', skew)\n",
    "print('La curtosis es:', kurt)\n",
    "\n",
    "x = np.arange(0,15)\n",
    "pmf = poisson.pmf(x,_lambda)\n",
    "cdf = poisson.cdf(x,_lambda)\n",
    "\n",
    "plt.subplot(121)\n",
    "plt.bar(x,pmf)\n",
    "plt.xlabel('# Accidentes')\n",
    "plt.ylabel('Probabilidad')\n",
    "\n",
    "plt.subplot(122)\n",
    "plt.scatter(x,cdf)\n",
    "plt.xlabel('# Accidentes')\n",
    "plt.ylabel('Probabilidad')\n",
    "\n",
    "plt.show()"
   ]
  },
  {
   "cell_type": "code",
   "execution_count": 6,
   "metadata": {},
   "outputs": [
    {
     "name": "stdout",
     "output_type": "stream",
     "text": [
      "La probabilidad que ningun ciervo este relacionado con un accidente es de:  0.02732372244729256\n",
      "La probabilidad P(x>=9) es:  0.011671412238468237\n",
      "Valores de x por debajo de 0.95 [0 1 2 3 4 5 6]\n"
     ]
    }
   ],
   "source": [
    "print('La probabilidad que ningun ciervo este relacionado con un accidente es de: ',pmf[0])\n",
    "print('La probabilidad P(x>=9) es: ', 1 - cdf[8])\n",
    "print('Valores de x por debajo de 0.95', x[cdf[:]<0.95])"
   ]
  }
 ],
 "metadata": {
  "kernelspec": {
   "display_name": "Python 3",
   "language": "python",
   "name": "python3"
  },
  "language_info": {
   "codemirror_mode": {
    "name": "ipython",
    "version": 3
   },
   "file_extension": ".py",
   "mimetype": "text/x-python",
   "name": "python",
   "nbconvert_exporter": "python",
   "pygments_lexer": "ipython3",
   "version": "3.7.4"
  }
 },
 "nbformat": 4,
 "nbformat_minor": 2
}
