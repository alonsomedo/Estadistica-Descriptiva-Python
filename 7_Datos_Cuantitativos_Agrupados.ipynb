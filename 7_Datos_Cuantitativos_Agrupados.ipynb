{
 "cells": [
  {
   "cell_type": "code",
   "execution_count": 1,
   "metadata": {},
   "outputs": [],
   "source": [
    "%matplotlib inline\n",
    "import matplotlib.pyplot as plt\n",
    "import pandas as pd\n",
    "import numpy as np"
   ]
  },
  {
   "cell_type": "markdown",
   "metadata": {},
   "source": [
    "# Datos Cuantitativos Agrupados"
   ]
  },
  {
   "cell_type": "markdown",
   "metadata": {},
   "source": [
    "En estadistica existen innumerables motivos por los cuales nos interesa agrupar los datos cuando estos son cuantitativos. Uno de estos motivos puede ser perfectamente que los datos sean muy **HETEROGENEOS**."
   ]
  },
  {
   "cell_type": "markdown",
   "metadata": {},
   "source": [
    "## Ejemplo "
   ]
  },
  {
   "cell_type": "code",
   "execution_count": 38,
   "metadata": {},
   "outputs": [
    {
     "name": "stdout",
     "output_type": "stream",
     "text": [
      "El siguiente grafico presenta demasiada heterogeneidad\n"
     ]
    },
    {
     "data": {
      "image/png": "[encoded data removed]",
      "text/plain": [
       "<Figure size 630x270 with 1 Axes>"
      ]
     },
     "metadata": {
      "needs_background": "light"
     },
     "output_type": "display_data"
    }
   ],
   "source": [
    "pesos = np.array((55.2,54,55.2,53.7,60.2,53.2,54.6,55.1,51.2,53.2,54.8,52.3,\n",
    "                  56.9,57,55,53.5,50.9,55.1,53.6,61.2,59.5,50.3,52.7,60))\n",
    "\n",
    "pesos, count = np.unique(pesos, return_counts = True)\n",
    "\n",
    "print('El siguiente grafico presenta demasiada heterogeneidad')\n",
    "plt.figure(figsize=(7,3), dpi=90)\n",
    "plt.bar(pesos, height = count)\n",
    "plt.show()"
   ]
  },
  {
   "cell_type": "markdown",
   "metadata": {},
   "source": [
    "Por lo general, existen 3 situaciones en las cuales conviene sin lugar a dudas agrupar datos cuantitativos en intervalos, tambien llamados clases.\n",
    "    - Cuando los datos son continuos, su redondeo ya define un agrupamiento debido a la inexistencia de precision infinita\n",
    "    - Cuando los datos son discretos, pero con un numero considerablemente grande de posibles valores\n",
    "    - Cuando tenemos muchisimos datos y estamos interesados en estudiar las frecuencias de sus valores"
   ]
  },
  {
   "cell_type": "markdown",
   "metadata": {},
   "source": [
    "## ¿Como agrupar los datos?\n",
    "\n",
    "Debemos definir lo siguiente:\n",
    "1. Decidir el numero de intervalos que vamos a utilizar (clases)\n",
    "2. Decidir la amplitud de los intervalos\n",
    "3. Acumular los extremos de los intervalos\n",
    "4. Calcular el valor representativo de cada intervalo, su marca de clase\n",
    "\n",
    "No hay forma de agrupar los datos mejor que otra. Eso sì, cada uno de los diferentes agrupamientos para un conjunto de datos podrìa sacar a la luz caracteristicas de diferentes conjunto."
   ]
  },
  {
   "cell_type": "markdown",
   "metadata": {},
   "source": [
    "## Estableciendo el numero de clases\n",
    "\n",
    "Lo primero es establecer el numero k de clases en las que vamos a dividir nuestros datos. Podemos hacer uso de las reglas mas populares. Sea \"n\" el numero total de datos de la muestra:\n",
    "\n",
    "* **Regla de la raiz cuadrada:** k = $\\sqrt{n}$\n",
    "* **Regla de Sturges:** k = [1+ log<sub>2</sub>(n)]\n",
    "* **Regla de Scott:** Se determina primero la amplitud teorica, A<sub>s</sub> de las clases. A<sub>s</sub> = 3.5 $\\cdot$ s $\\cdot$ n$^{^-1/3}$ donde s es la desviacion tipica muestral. Luego se toma:  $ k =[\\frac{max(x)-min(x)}{A_s}]$\n",
    "\n",
    "\n",
    "A diferencia de la regla de la raíz cuadrada y Sturges las cuales son buenas para conjuntos de datos pequeños, sin embargo la de Sturges es preferible para conjunto de datos que presenten muchos datos atipicos.\n",
    "\n"
   ]
  },
  {
   "cell_type": "markdown",
   "metadata": {},
   "source": [
    "## Decidiendo la amplitud (A)\n",
    "\n",
    "Una vez determinado $k$, hay que decidir su amplitud.\n",
    "\n",
    "La forma mas facil es que la amplitud sea la misma para todos los intervalos, sin embargo esta no es la unica. \n",
    "\n",
    "Para calcular la $A$, se divide el rango del conjunto de datos entre $k$ (numero de clases) y redondearemos por exceso a un valor de la presicion de la media. Si se da el caso en que el cociente de exacto, tomaremos como $A$ ese cociente mas una unidad de presicion.\n"
   ]
  },
  {
   "cell_type": "markdown",
   "metadata": {},
   "source": [
    "## Extremos de los intervalos \n"
   ]
  },
  {
   "cell_type": "code",
   "execution_count": null,
   "metadata": {},
   "outputs": [],
   "source": []
  },
  {
   "cell_type": "code",
   "execution_count": null,
   "metadata": {},
   "outputs": [],
   "source": []
  },
  {
   "cell_type": "code",
   "execution_count": null,
   "metadata": {},
   "outputs": [],
   "source": []
  }
 ],
 "metadata": {
  "kernelspec": {
   "display_name": "Python 3",
   "language": "python",
   "name": "python3"
  },
  "language_info": {
   "codemirror_mode": {
    "name": "ipython",
    "version": 3
   },
   "file_extension": ".py",
   "mimetype": "text/x-python",
   "name": "python",
   "nbconvert_exporter": "python",
   "pygments_lexer": "ipython3",
   "version": "3.7.3"
  }
 },
 "nbformat": 4,
 "nbformat_minor": 2
}
