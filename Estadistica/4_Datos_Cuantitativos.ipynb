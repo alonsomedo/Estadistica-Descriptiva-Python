{
 "cells": [
  {
   "cell_type": "code",
   "execution_count": 57,
   "metadata": {},
   "outputs": [],
   "source": [
    "import numpy as np\n",
    "import pandas as pd\n",
    "from statistics import mode"
   ]
  },
  {
   "cell_type": "markdown",
   "metadata": {},
   "source": [
    "# Medidas de centralizacion\n",
    "\n",
    "Son las que dan un valor representativo a todas las observaciones. Las más importantes son:\n",
    "\n",
    "     - media aritmetica\n",
    "     - mediana: valor central en la lista ordenada de observaciones.\n",
    "     - moda: es el valor de maxima frecuencia(absoluta o relativa)\n",
    "\n",
    "    "
   ]
  },
  {
   "cell_type": "markdown",
   "metadata": {},
   "source": [
    "### Media"
   ]
  },
  {
   "cell_type": "code",
   "execution_count": 42,
   "metadata": {},
   "outputs": [],
   "source": [
    "edad = [45,50,19,60,15,20,33,12,20,80,20]"
   ]
  },
  {
   "cell_type": "code",
   "execution_count": 43,
   "metadata": {},
   "outputs": [
    {
     "name": "stdout",
     "output_type": "stream",
     "text": [
      "La media de las edades es de: 34.0\n"
     ]
    }
   ],
   "source": [
    "media = np.mean(edad)\n",
    "print(f'La media de las edades es de: {media}')"
   ]
  },
  {
   "cell_type": "markdown",
   "metadata": {},
   "source": [
    "### Mediana"
   ]
  },
  {
   "cell_type": "code",
   "execution_count": 45,
   "metadata": {},
   "outputs": [
    {
     "name": "stdout",
     "output_type": "stream",
     "text": [
      "[12, 15, 19, 20, 20, 20, 33, 45, 50, 60, 80]\n",
      "La mediana de las edades es de: 20.0\n"
     ]
    }
   ],
   "source": [
    "edad.sort()\n",
    "print(edad)\n",
    "mediana = np.median(edad)\n",
    "print(f'La mediana de las edades es de: {mediana}')"
   ]
  },
  {
   "cell_type": "markdown",
   "metadata": {},
   "source": [
    "### Moda"
   ]
  },
  {
   "cell_type": "code",
   "execution_count": 58,
   "metadata": {},
   "outputs": [
    {
     "name": "stdout",
     "output_type": "stream",
     "text": [
      "La moda de las edades es: 20\n"
     ]
    }
   ],
   "source": [
    "#moda = mode(edad).mode[0]\n",
    "moda = mode(edad)\n",
    "print(f'La moda de las edades es: {moda}')"
   ]
  },
  {
   "cell_type": "markdown",
   "metadata": {},
   "source": [
    "### Media aritmetica ponderada"
   ]
  },
  {
   "cell_type": "code",
   "execution_count": 76,
   "metadata": {},
   "outputs": [
    {
     "name": "stdout",
     "output_type": "stream",
     "text": [
      "La media aritmetica ponderada es: 43.375\n"
     ]
    }
   ],
   "source": [
    "x = [32, 45, 67 , 43, 28, 17, 48, 95]\n",
    "w = [1, 2, 2, 3, 3, 2, 2, 1]\n",
    "\n",
    "#array_x = np.array(x)\n",
    "#array_w = np.array(w)\n",
    "#mean = np.sum(array_x*array_w)/np.sum(array_w)\n",
    "\n",
    "mean = np.average(x, weights = w)\n",
    "print(f'La media aritmetica ponderada es: {mean}')"
   ]
  },
  {
   "cell_type": "markdown",
   "metadata": {},
   "source": [
    "### Media geometrica "
   ]
  },
  {
   "cell_type": "code",
   "execution_count": 102,
   "metadata": {},
   "outputs": [
    {
     "name": "stdout",
     "output_type": "stream",
     "text": [
      "La media geometrica es: 41.62073000388034\n"
     ]
    }
   ],
   "source": [
    "x = [32, 45, 67 , 43, 28, 17, 48, 95]\n",
    "result = np.prod(np.array(x),dtype=\"int64\")\n",
    "\n",
    "geom_mean = np.power(result,1/len(x))\n",
    "print(f'La media geometrica es: {geom_mean}')"
   ]
  },
  {
   "cell_type": "markdown",
   "metadata": {},
   "source": [
    "### Media armonica"
   ]
  },
  {
   "cell_type": "code",
   "execution_count": 109,
   "metadata": {},
   "outputs": [
    {
     "name": "stdout",
     "output_type": "stream",
     "text": [
      "La media armonica es: 36.77300793662041\n"
     ]
    }
   ],
   "source": [
    "x = [32, 45, 67 , 43, 28, 17, 48, 95]\n",
    "\n",
    "arm_mean = len(x)/(np.sum(1/np.array(x)))\n",
    "print(f'La media armonica es: {arm_mean}')"
   ]
  },
  {
   "cell_type": "markdown",
   "metadata": {},
   "source": [
    "# Medidas de Posicion\n",
    "\n",
    "\n",
    "## Cuantiles\n",
    "Dada una proporcion $p$ E (0,1), el cuantil de orden $p$ de una variable cuantitativa. $Q_p$, es el valor mas pequeño tal que su frecuencia relativa acumulada es mayor o igual a $p$."
   ]
  },
  {
   "cell_type": "code",
   "execution_count": 129,
   "metadata": {},
   "outputs": [
    {
     "data": {
      "text/plain": [
       "array([1, 1, 1, 1, 1, 1, 1, 1, 1, 1, 1, 1, 1, 1, 1, 1, 2, 2, 2, 2, 2, 2,\n",
       "       2, 2, 2, 2, 2, 3, 3, 3, 3, 3, 3, 3, 3, 3, 3, 3, 3, 3, 3, 3, 3, 4,\n",
       "       4, 4, 4, 4, 4, 4])"
      ]
     },
     "execution_count": 129,
     "metadata": {},
     "output_type": "execute_result"
    }
   ],
   "source": [
    "dado = np.random.randint(1,5,50)\n",
    "dado.sort()\n",
    "dado"
   ]
  },
  {
   "cell_type": "code",
   "execution_count": 142,
   "metadata": {},
   "outputs": [],
   "source": [
    "unique,count = np.unique(dado, return_counts = True)\n",
    "abs_freq = count\n",
    "acum_abs_freq = np.cumsum(abs_freq)\n",
    "rel_freq = count/count.sum()\n",
    "acum_rel_freq = np.cumsum(rel_freq)"
   ]
  },
  {
   "cell_type": "code",
   "execution_count": 143,
   "metadata": {},
   "outputs": [
    {
     "data": {
      "text/html": [
       "<div>\n",
       "<style scoped>\n",
       "    .dataframe tbody tr th:only-of-type {\n",
       "        vertical-align: middle;\n",
       "    }\n",
       "\n",
       "    .dataframe tbody tr th {\n",
       "        vertical-align: top;\n",
       "    }\n",
       "\n",
       "    .dataframe thead th {\n",
       "        text-align: right;\n",
       "    }\n",
       "</style>\n",
       "<table border=\"1\" class=\"dataframe\">\n",
       "  <thead>\n",
       "    <tr style=\"text-align: right;\">\n",
       "      <th></th>\n",
       "      <th>value</th>\n",
       "      <th>abs_freq</th>\n",
       "      <th>acum_abs_freq</th>\n",
       "      <th>rel_freq</th>\n",
       "      <th>acum_rel_freq</th>\n",
       "    </tr>\n",
       "  </thead>\n",
       "  <tbody>\n",
       "    <tr>\n",
       "      <th>0</th>\n",
       "      <td>1</td>\n",
       "      <td>16</td>\n",
       "      <td>16</td>\n",
       "      <td>0.32</td>\n",
       "      <td>0.32</td>\n",
       "    </tr>\n",
       "    <tr>\n",
       "      <th>1</th>\n",
       "      <td>2</td>\n",
       "      <td>11</td>\n",
       "      <td>27</td>\n",
       "      <td>0.22</td>\n",
       "      <td>0.54</td>\n",
       "    </tr>\n",
       "    <tr>\n",
       "      <th>2</th>\n",
       "      <td>3</td>\n",
       "      <td>16</td>\n",
       "      <td>43</td>\n",
       "      <td>0.32</td>\n",
       "      <td>0.86</td>\n",
       "    </tr>\n",
       "    <tr>\n",
       "      <th>3</th>\n",
       "      <td>4</td>\n",
       "      <td>7</td>\n",
       "      <td>50</td>\n",
       "      <td>0.14</td>\n",
       "      <td>1.00</td>\n",
       "    </tr>\n",
       "  </tbody>\n",
       "</table>\n",
       "</div>"
      ],
      "text/plain": [
       "   value  abs_freq  acum_abs_freq  rel_freq  acum_rel_freq\n",
       "0      1        16             16      0.32           0.32\n",
       "1      2        11             27      0.22           0.54\n",
       "2      3        16             43      0.32           0.86\n",
       "3      4         7             50      0.14           1.00"
      ]
     },
     "execution_count": 143,
     "metadata": {},
     "output_type": "execute_result"
    }
   ],
   "source": [
    "freq_tab = pd.DataFrame({\n",
    "                        \"value\": unique,   \n",
    "                        \"abs_freq\": abs_freq,\n",
    "                        \"acum_abs_freq\": acum_abs_freq,\n",
    "                        \"rel_freq\": rel_freq,\n",
    "                        \"acum_rel_freq\": acum_rel_freq,\n",
    "                    })\n",
    "freq_tab"
   ]
  },
  {
   "cell_type": "markdown",
   "metadata": {},
   "source": [
    "### Ejemplo\n",
    "Fijandonos en la lista ordenada de puntuaciones del dado, el cuantil Q(0.3) seria el primer elemento de dicha lista tal que fuera mayor o igual que, como mínimo, el 30% de los datos. Si calculamos el 30% de 50, obtenemos que es 15. Esto nos dice que el cuantil que buscamos es el numero que se encuentra en la quinceava posicion de la lista ordenada."
   ]
  },
  {
   "cell_type": "code",
   "execution_count": 149,
   "metadata": {},
   "outputs": [
    {
     "data": {
      "text/plain": [
       "1"
      ]
     },
     "execution_count": 149,
     "metadata": {},
     "output_type": "execute_result"
    }
   ],
   "source": [
    "dado[15]"
   ]
  },
  {
   "cell_type": "markdown",
   "metadata": {},
   "source": [
    "## Cuartiles\n",
    "Los cuartiles son cuantiles Q(0.25), Q(0.5), Q(0.75). Tambien llamados primer, segundo y tercer cuartil. El primer cuartil, será el menor valor que es mayor o igual a una cuarta parte de las observaciones. \n",
    "\n",
    "    - El cuantil Q(0.5) es la mediana\n",
    "    - Los deciles son cuantiles Q(p) con p un multiplo de 0.1\n",
    "    - Los percentiles son los cuantiles Q(p) con p un multiplo de 0.01"
   ]
  },
  {
   "cell_type": "code",
   "execution_count": 151,
   "metadata": {},
   "outputs": [
    {
     "data": {
      "text/plain": [
       "1.0"
      ]
     },
     "execution_count": 151,
     "metadata": {},
     "output_type": "execute_result"
    }
   ],
   "source": [
    "np.quantile(dado,0.3)"
   ]
  },
  {
   "cell_type": "code",
   "execution_count": 153,
   "metadata": {},
   "outputs": [
    {
     "data": {
      "text/plain": [
       "2.0"
      ]
     },
     "execution_count": 153,
     "metadata": {},
     "output_type": "execute_result"
    }
   ],
   "source": [
    "np.quantile(dado,0.5)"
   ]
  },
  {
   "cell_type": "markdown",
   "metadata": {},
   "source": [
    "# Medidas de dispersion \n",
    "\n",
    "Las medidas de dispersion evaluan lo disperso que estan los datos. Algunas de las mas importantes son:\n",
    "\n",
    "    - El rango o recorrido que es la diferencia entre el maximo y el minimo de las observaciones\n",
    "    - El rango intercuartilico que es la diferencia entre el tercer y primer cuartil, Q(0.75) - Q(0.25)\n",
    "    - La varianza, a la que se denota por s^2, es la media aritmetica de las diferencias al cuadrado entre los datos Xi y la media aritmetica de las observaciones x.\n",
    "    - La desviacion tipica es la raiz cuadrada de la varianza.\n",
    "    - La varianza muestral es la correccion de la varianza y en lugar de dividirlo entre \"n\" se divide entre \"n-1\"\n",
    "    - La desviacion tipica muestral es la raiz cuadrada de la varianza muestral\n",
    "        "
   ]
  },
  {
   "cell_type": "code",
   "execution_count": 158,
   "metadata": {},
   "outputs": [],
   "source": [
    "data = [1,2,4,6,3,8,9,10,22,33,12]\n",
    "data = np.array(data)"
   ]
  },
  {
   "cell_type": "markdown",
   "metadata": {},
   "source": [
    "### Rango"
   ]
  },
  {
   "cell_type": "code",
   "execution_count": 161,
   "metadata": {},
   "outputs": [
    {
     "name": "stdout",
     "output_type": "stream",
     "text": [
      "El rango o recorrido es: 32\n"
     ]
    }
   ],
   "source": [
    "rango = np.amax(data) - np.amin(data)\n",
    "print(f'El rango o recorrido es: {rango}')"
   ]
  },
  {
   "cell_type": "markdown",
   "metadata": {},
   "source": [
    "### Rango intercuartilico "
   ]
  },
  {
   "cell_type": "code",
   "execution_count": 162,
   "metadata": {},
   "outputs": [
    {
     "name": "stdout",
     "output_type": "stream",
     "text": [
      "El rango intercuartilico es: 21.75\n"
     ]
    }
   ],
   "source": [
    "q75, q25 = np.percentile(x, [75 ,25])\n",
    "iqr = q75 - q25\n",
    "print(f'El rango intercuartilico es: {iqr}')"
   ]
  },
  {
   "cell_type": "markdown",
   "metadata": {},
   "source": [
    "### Varianza Poblacional"
   ]
  },
  {
   "cell_type": "code",
   "execution_count": 163,
   "metadata": {},
   "outputs": [
    {
     "name": "stdout",
     "output_type": "stream",
     "text": [
      "La varianza es: 84.36363636363636\n"
     ]
    }
   ],
   "source": [
    "var = np.var(data)\n",
    "print(f'La varianza es: {var}')"
   ]
  },
  {
   "cell_type": "markdown",
   "metadata": {},
   "source": [
    "### Desviacion Estandar Poblacional"
   ]
  },
  {
   "cell_type": "code",
   "execution_count": 164,
   "metadata": {},
   "outputs": [
    {
     "name": "stdout",
     "output_type": "stream",
     "text": [
      "La desviacion estandar es: 9.184967956592791\n"
     ]
    }
   ],
   "source": [
    "std = np.std(data)\n",
    "print(f'La desviacion estandar es: {std}')"
   ]
  },
  {
   "cell_type": "markdown",
   "metadata": {},
   "source": [
    "### Varianza Muestral"
   ]
  },
  {
   "cell_type": "code",
   "execution_count": 166,
   "metadata": {},
   "outputs": [
    {
     "name": "stdout",
     "output_type": "stream",
     "text": [
      "La varianza es: 92.8\n"
     ]
    }
   ],
   "source": [
    "var = np.var(data, ddof = 1)\n",
    "print(f'La varianza es: {var}')"
   ]
  },
  {
   "cell_type": "markdown",
   "metadata": {},
   "source": [
    "### Desviacion Estandar Muestral"
   ]
  },
  {
   "cell_type": "code",
   "execution_count": 168,
   "metadata": {},
   "outputs": [
    {
     "name": "stdout",
     "output_type": "stream",
     "text": [
      "La desviacion estandar es: 9.633275663033837\n"
     ]
    }
   ],
   "source": [
    "std = np.std(data, ddof = 1)\n",
    "print(f'La desviacion estandar es: {std}')"
   ]
  },
  {
   "cell_type": "code",
   "execution_count": null,
   "metadata": {},
   "outputs": [],
   "source": []
  }
 ],
 "metadata": {
  "kernelspec": {
   "display_name": "Python 3",
   "language": "python",
   "name": "python3"
  },
  "language_info": {
   "codemirror_mode": {
    "name": "ipython",
    "version": 3
   },
   "file_extension": ".py",
   "mimetype": "text/x-python",
   "name": "python",
   "nbconvert_exporter": "python",
   "pygments_lexer": "ipython3",
   "version": "3.7.3"
  }
 },
 "nbformat": 4,
 "nbformat_minor": 2
}
