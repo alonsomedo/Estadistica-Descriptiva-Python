{
 "cells": [
  {
   "cell_type": "code",
   "execution_count": 1,
   "metadata": {},
   "outputs": [],
   "source": [
    "%matplotlib inline\n",
    "import matplotlib.pyplot as plt\n",
    "import pandas as pd\n",
    "import numpy as np\n",
    "import seaborn as sb"
   ]
  },
  {
   "cell_type": "markdown",
   "metadata": {},
   "source": [
    "# Datos Cuantitativos Agrupados"
   ]
  },
  {
   "cell_type": "markdown",
   "metadata": {},
   "source": [
    "En estadistica existen innumerables motivos por los cuales nos interesa agrupar los datos cuando estos son cuantitativos. Uno de estos motivos puede ser perfectamente que los datos sean muy **HETEROGENEOS**."
   ]
  },
  {
   "cell_type": "markdown",
   "metadata": {},
   "source": [
    "## Ejemplo "
   ]
  },
  {
   "cell_type": "code",
   "execution_count": 2,
   "metadata": {},
   "outputs": [
    {
     "name": "stdout",
     "output_type": "stream",
     "text": [
      "El siguiente grafico presenta demasiada heterogeneidad\n"
     ]
    },
    {
     "data": {
      "image/png": "[encoded data removed]",
      "text/plain": [
       "<Figure size 630x270 with 1 Axes>"
      ]
     },
     "metadata": {
      "needs_background": "light"
     },
     "output_type": "display_data"
    }
   ],
   "source": [
    "pesos = np.array((55.2,54,55.2,53.7,60.2,53.2,54.6,55.1,51.2,53.2,54.8,52.3,\n",
    "                  56.9,57,55,53.5,50.9,55.1,53.6,61.2,59.5,50.3,52.7,60))\n",
    "\n",
    "pesos, count = np.unique(pesos, return_counts = True)\n",
    "\n",
    "print('El siguiente grafico presenta demasiada heterogeneidad')\n",
    "plt.figure(figsize=(7,3), dpi=90)\n",
    "plt.bar(pesos, height = count)\n",
    "plt.show()"
   ]
  },
  {
   "cell_type": "markdown",
   "metadata": {},
   "source": [
    "Por lo general, existen 3 situaciones en las cuales conviene sin lugar a dudas agrupar datos cuantitativos en intervalos, tambien llamados clases.\n",
    "    - Cuando los datos son continuos, su redondeo ya define un agrupamiento debido a la inexistencia de precision infinita\n",
    "    - Cuando los datos son discretos, pero con un numero considerablemente grande de posibles valores\n",
    "    - Cuando tenemos muchisimos datos y estamos interesados en estudiar las frecuencias de sus valores"
   ]
  },
  {
   "cell_type": "markdown",
   "metadata": {},
   "source": [
    "## ¿Como agrupar los datos?\n",
    "\n",
    "Debemos definir lo siguiente:\n",
    "1. Decidir el numero de intervalos que vamos a utilizar (clases)\n",
    "2. Decidir la amplitud de los intervalos\n",
    "3. Acumular los extremos de los intervalos\n",
    "4. Calcular el valor representativo de cada intervalo, su marca de clase\n",
    "\n",
    "No hay forma de agrupar los datos mejor que otra. Eso sì, cada uno de los diferentes agrupamientos para un conjunto de datos podrìa sacar a la luz caracteristicas de diferentes conjunto."
   ]
  },
  {
   "cell_type": "markdown",
   "metadata": {},
   "source": [
    "## 1. Estableciendo el numero de clases\n",
    "\n",
    "Lo primero es establecer el numero $k$ de clases en las que vamos a dividir nuestros datos. Podemos hacer uso de las reglas mas populares. Sea $\"n\"$ el numero total de datos de la muestra:\n",
    "\n",
    "* **Regla de la raiz cuadrada:** k = $\\sqrt{n}$\n",
    "* **Regla de Sturges:** k = [1+ log<sub>2</sub>(n)]\n",
    "* **Regla de Scott:** Se determina primero la amplitud teorica, A<sub>s</sub> de las clases. A<sub>s</sub> = 3.5 $\\cdot$ s $\\cdot$ n$^{^-1/3}$ donde s es la desviacion tipica muestral. Luego se toma:  $ \\large k =[\\frac{max(x)-min(x)}{A_s}]$\n",
    "\n",
    "\n",
    "A diferencia de la regla de la raíz cuadrada y Sturges las cuales son buenas para conjuntos de datos pequeños, sin embargo la de Sturges es preferible para conjunto de datos que presenten muchos datos atipicos.\n",
    "\n"
   ]
  },
  {
   "cell_type": "markdown",
   "metadata": {},
   "source": [
    "## 2. Decidiendo la amplitud (A)\n",
    "\n",
    "Una vez determinado $k$, hay que decidir su amplitud.\n",
    "\n",
    "La forma mas facil es que la amplitud sea la misma para todos los intervalos, sin embargo esta no es la unica. \n",
    "\n",
    "Para calcular la $A$, se divide el rango del conjunto de datos entre $k$ (numero de clases) y redondearemos por exceso a un valor de la presicion de la media. Si se da el caso en que el cociente de exacto, tomaremos como $A$ ese cociente mas una unidad de presicion.\n"
   ]
  },
  {
   "cell_type": "markdown",
   "metadata": {},
   "source": [
    "## 3. Extremos de los intervalos \n",
    "\n",
    "Para los intervalos siempre consideraremos que son cerrados por su izquierda y abiertos por la derecha, debido a que asi se usan en Teoria de Probabilidades al definir la distribucion de una variable aleatoria discreta y en muchas otras situaciones.\n",
    "\n",
    "Utilizaremos la notacion: [$L_1,L_2$),[$L_2,L_3$)....,[$L_k,L_{k+1}$)\n",
    "\n",
    "donde los $L_i$ denotan los extremos de los intervalos. Estos se calculan de la siguiente manera: $L_1 = $ min(x) - $\\frac{1}{2} \\cdot precision$\n",
    "\n",
    "El resto de intervalos se obtiene de forma recursiva:\n",
    "<center> $\\large L_2$ = $L_1 + A$ ...</center>\n",
    "<center> $\\large L_{k+1}$ = $L_{k} + A$ </center>\n"
   ]
  },
  {
   "cell_type": "markdown",
   "metadata": {},
   "source": [
    "## 4. Marca de clase\n",
    "\n",
    "Solo nos queda determinar la marca de clase, $X_i$, de cada intervalo [$\\large L_i,L_{i+1}$).\n",
    "\n",
    "Este no es mas que un valor del intervalo que utilizaremos para identificar la clase y para calcular algunos estadisticos.\n",
    "<center> $\\Large X_i = \\frac{L_i + L_{i+1}}{2}$</center>\n"
   ]
  },
  {
   "cell_type": "markdown",
   "metadata": {},
   "source": [
    "## Ejemplo"
   ]
  },
  {
   "cell_type": "code",
   "execution_count": 3,
   "metadata": {},
   "outputs": [],
   "source": [
    "titanic = sb.load_dataset('titanic')\n",
    "data = titanic['age'].dropna()\n",
    "data = np.array(data)"
   ]
  },
  {
   "cell_type": "code",
   "execution_count": 19,
   "metadata": {},
   "outputs": [
    {
     "name": "stdout",
     "output_type": "stream",
     "text": [
      "1. Establecemos el numero de clases, utilizando la regla de Sturges: 11.0\n"
     ]
    }
   ],
   "source": [
    "k = np.ceil(1 + np.log2(len(data)))\n",
    "print(f'1. Establecemos el numero de clases, utilizando la regla de Sturges: {k}')"
   ]
  },
  {
   "cell_type": "code",
   "execution_count": 20,
   "metadata": {},
   "outputs": [
    {
     "name": "stdout",
     "output_type": "stream",
     "text": [
      "2. Definimos la amplitud de los intervalos, en este caso seria:\n"
     ]
    },
    {
     "data": {
      "text/plain": [
       "8.0"
      ]
     },
     "execution_count": 20,
     "metadata": {},
     "output_type": "execute_result"
    }
   ],
   "source": [
    "print('2. Definimos la amplitud de los intervalos, en este caso seria:')\n",
    "min = np.min(data)\n",
    "max = np.max(data)\n",
    "\n",
    "A = np.ceil((max - min)/k)\n",
    "A"
   ]
  },
  {
   "cell_type": "markdown",
   "metadata": {},
   "source": [
    "La funcion $\\large freq$_$\\large table$ arma una tabla de frecuencia a partir de ciertos parametros que entregamos, los intervalos y marca de clase se calculan dentro de la funcion:\n",
    "* x = columna cuantitativa de nuestro dataset\n",
    "* k = numero de clases \n",
    "* A = amplitud de las clases\n",
    "* p = presicion"
   ]
  },
  {
   "cell_type": "code",
   "execution_count": 21,
   "metadata": {},
   "outputs": [],
   "source": [
    "def freq_table(x, k, A, p):\n",
    "    L = np.min(x)-p/2+A*np.arange(0,k)\n",
    "    x_cut = pd.cut(x, bins = L, right=False)\n",
    "    mc = (L[0]+L[1])/2+A*np.arange(0,(k-1))\n",
    "    unique,count = np.unique(x_cut, return_counts = True)\n",
    "    \n",
    "    abs_freq = count\n",
    "    acum_abs_freq = np.cumsum(abs_freq)\n",
    "    rel_freq = count/count.sum()\n",
    "    acum_rel_freq = np.cumsum(rel_freq)\n",
    "    \n",
    "    freq_tab = pd.DataFrame({\n",
    "                        \"intervals\": unique,\n",
    "                        \"mc\": mc,\n",
    "                        \"abs_freq\": abs_freq,\n",
    "                        \"acum_abs_freq\": acum_abs_freq,\n",
    "                        \"rel_freq\": rel_freq,\n",
    "                        \"acum_rel_freq\": acum_rel_freq,\n",
    "                    })\n",
    "    return freq_tab\n",
    "    "
   ]
  },
  {
   "cell_type": "code",
   "execution_count": 22,
   "metadata": {},
   "outputs": [
    {
     "data": {
      "text/html": [
       "<div>\n",
       "<style scoped>\n",
       "    .dataframe tbody tr th:only-of-type {\n",
       "        vertical-align: middle;\n",
       "    }\n",
       "\n",
       "    .dataframe tbody tr th {\n",
       "        vertical-align: top;\n",
       "    }\n",
       "\n",
       "    .dataframe thead th {\n",
       "        text-align: right;\n",
       "    }\n",
       "</style>\n",
       "<table border=\"1\" class=\"dataframe\">\n",
       "  <thead>\n",
       "    <tr style=\"text-align: right;\">\n",
       "      <th></th>\n",
       "      <th>intervals</th>\n",
       "      <th>mc</th>\n",
       "      <th>abs_freq</th>\n",
       "      <th>acum_abs_freq</th>\n",
       "      <th>rel_freq</th>\n",
       "      <th>acum_rel_freq</th>\n",
       "    </tr>\n",
       "  </thead>\n",
       "  <tbody>\n",
       "    <tr>\n",
       "      <td>0</td>\n",
       "      <td>[0.415, 8.415)</td>\n",
       "      <td>4.415</td>\n",
       "      <td>54</td>\n",
       "      <td>54</td>\n",
       "      <td>0.075630</td>\n",
       "      <td>0.075630</td>\n",
       "    </tr>\n",
       "    <tr>\n",
       "      <td>1</td>\n",
       "      <td>[8.415, 16.415)</td>\n",
       "      <td>12.415</td>\n",
       "      <td>46</td>\n",
       "      <td>100</td>\n",
       "      <td>0.064426</td>\n",
       "      <td>0.140056</td>\n",
       "    </tr>\n",
       "    <tr>\n",
       "      <td>2</td>\n",
       "      <td>[16.415, 24.415)</td>\n",
       "      <td>20.415</td>\n",
       "      <td>177</td>\n",
       "      <td>277</td>\n",
       "      <td>0.247899</td>\n",
       "      <td>0.387955</td>\n",
       "    </tr>\n",
       "    <tr>\n",
       "      <td>3</td>\n",
       "      <td>[24.415, 32.415)</td>\n",
       "      <td>28.415</td>\n",
       "      <td>169</td>\n",
       "      <td>446</td>\n",
       "      <td>0.236695</td>\n",
       "      <td>0.624650</td>\n",
       "    </tr>\n",
       "    <tr>\n",
       "      <td>4</td>\n",
       "      <td>[32.415, 40.415)</td>\n",
       "      <td>36.415</td>\n",
       "      <td>118</td>\n",
       "      <td>564</td>\n",
       "      <td>0.165266</td>\n",
       "      <td>0.789916</td>\n",
       "    </tr>\n",
       "    <tr>\n",
       "      <td>5</td>\n",
       "      <td>[40.415, 48.415)</td>\n",
       "      <td>44.415</td>\n",
       "      <td>70</td>\n",
       "      <td>634</td>\n",
       "      <td>0.098039</td>\n",
       "      <td>0.887955</td>\n",
       "    </tr>\n",
       "    <tr>\n",
       "      <td>6</td>\n",
       "      <td>[48.415, 56.415)</td>\n",
       "      <td>52.415</td>\n",
       "      <td>45</td>\n",
       "      <td>679</td>\n",
       "      <td>0.063025</td>\n",
       "      <td>0.950980</td>\n",
       "    </tr>\n",
       "    <tr>\n",
       "      <td>7</td>\n",
       "      <td>[56.415, 64.415)</td>\n",
       "      <td>60.415</td>\n",
       "      <td>24</td>\n",
       "      <td>703</td>\n",
       "      <td>0.033613</td>\n",
       "      <td>0.984594</td>\n",
       "    </tr>\n",
       "    <tr>\n",
       "      <td>8</td>\n",
       "      <td>[64.415, 72.415)</td>\n",
       "      <td>68.415</td>\n",
       "      <td>9</td>\n",
       "      <td>712</td>\n",
       "      <td>0.012605</td>\n",
       "      <td>0.997199</td>\n",
       "    </tr>\n",
       "    <tr>\n",
       "      <td>9</td>\n",
       "      <td>[72.415, 80.415)</td>\n",
       "      <td>76.415</td>\n",
       "      <td>2</td>\n",
       "      <td>714</td>\n",
       "      <td>0.002801</td>\n",
       "      <td>1.000000</td>\n",
       "    </tr>\n",
       "  </tbody>\n",
       "</table>\n",
       "</div>"
      ],
      "text/plain": [
       "          intervals      mc  abs_freq  acum_abs_freq  rel_freq  acum_rel_freq\n",
       "0    [0.415, 8.415)   4.415        54             54  0.075630       0.075630\n",
       "1   [8.415, 16.415)  12.415        46            100  0.064426       0.140056\n",
       "2  [16.415, 24.415)  20.415       177            277  0.247899       0.387955\n",
       "3  [24.415, 32.415)  28.415       169            446  0.236695       0.624650\n",
       "4  [32.415, 40.415)  36.415       118            564  0.165266       0.789916\n",
       "5  [40.415, 48.415)  44.415        70            634  0.098039       0.887955\n",
       "6  [48.415, 56.415)  52.415        45            679  0.063025       0.950980\n",
       "7  [56.415, 64.415)  60.415        24            703  0.033613       0.984594\n",
       "8  [64.415, 72.415)  68.415         9            712  0.012605       0.997199\n",
       "9  [72.415, 80.415)  76.415         2            714  0.002801       1.000000"
      ]
     },
     "execution_count": 22,
     "metadata": {},
     "output_type": "execute_result"
    }
   ],
   "source": [
    "freq_table(data,k,A,0.01)"
   ]
  },
  {
   "cell_type": "code",
   "execution_count": null,
   "metadata": {},
   "outputs": [],
   "source": []
  }
 ],
 "metadata": {
  "kernelspec": {
   "display_name": "Python 3",
   "language": "python",
   "name": "python3"
  },
  "language_info": {
   "codemirror_mode": {
    "name": "ipython",
    "version": 3
   },
   "file_extension": ".py",
   "mimetype": "text/x-python",
   "name": "python",
   "nbconvert_exporter": "python",
   "pygments_lexer": "ipython3",
   "version": "3.7.4"
  }
 },
 "nbformat": 4,
 "nbformat_minor": 2
}
