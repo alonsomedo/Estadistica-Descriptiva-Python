{
 "cells": [
  {
   "cell_type": "markdown",
   "metadata": {},
   "source": [
    "# Estadistica Inferencial"
   ]
  },
  {
   "cell_type": "markdown",
   "metadata": {},
   "source": [
    "El problema usual de la **estadistica inferencial** es:\n",
    "- Queremos conocer el valor de una caracteristica en una poblacion\n",
    "- No podemos medir esta caracteristica en todos los individuos de la poblacion\n",
    "- Extraemos una muestra aleatoria de la poblacion, medimos la caracteristica en los individuos de esta muestra e **inferimos** el valor de la caracteristica para la poblacion. \n",
    "<br><br>\n",
    "    * ¿Como lo tenemos que hacer?\n",
    "    * ¿Como tenemos que hacer la muestra?\n",
    "    * ¿Que informacion podemos inferir?"
   ]
  },
  {
   "cell_type": "markdown",
   "metadata": {},
   "source": [
    "## Muestra aleatoria simple (M.A.S)  de tamaño N\n",
    "\n",
    "De una poblacion de $N$ individuos, repetimos $n$ veces el proceso consistente en escoger **equiprobablemente** un individuo de la poblacion; ***los individuos escogidos se pueden repetir***.\n",
    "\n",
    "Lo podemos definir formalmente, como un conjunto de ***n*** copias independientes de ***X*** o un conjunto de ***n*** variables aleatorias independientes ***$X_1,...,X_n$***, todas con la distribucion de ***X***\n",
    "\n",
    "Ejemplo:\n",
    "\n",
    "- Escoger al azar $n$ estudiantes de la Universidad Nacional de Ingenieria (UNI) (con reposicion) para medirles la estatura."
   ]
  },
  {
   "cell_type": "markdown",
   "metadata": {},
   "source": [
    "## Estadistico T o Estimador Puntual\n",
    "\n",
    "Es una funcion que aplicada a una muestra ($X_1,...X_n$) nos permite estimar un valor que queramos conocer sobre toda la poblacion.\n",
    "<br><br>\n",
    "<center> $T = f(X1, ...., Xn)$ </center>\n",
    "\n",
    "Ejemplo:\n",
    "\n",
    "- La media de las estaturas de una muestra de estudiantes de la UNI nos permite estimar la media de las alturas de todos los estudiantes de la UNI."
   ]
  },
  {
   "cell_type": "markdown",
   "metadata": {},
   "source": [
    "## La Media muestral de una M.A.S\n",
    "\n",
    "La media muestral de una m.a.s $X_1,....,X_n$ de tamaño ***n*** es:\n",
    "<br><br>\n",
    "<center> $\\Large \\bar{X} := \\frac{X_1 + ... + X_n}{n}$ </center>\n",
    "\n",
    "y estima $E(X)$\n",
    "\n",
    "Ejemplo: \n",
    "- La media muestral de una realizacion de una m.a.s de las alturas de estudiantes estima la altura media de un estudiante de la UNI\n",
    "\n",
    "La distribucion muestral de T es la distribucion de esta variable aleatoria. Estudiando esta distribucion muestral, podremos estimar propiedades de $X$ a partir del comportamiento de una muestra.\n",
    "\n",
    "\n",
    "#### Convenio: Los ESTADISTICOS, van en mayúsculas; las REALIZACIONES, en minúsculas."
   ]
  },
  {
   "cell_type": "markdown",
   "metadata": {},
   "source": [
    "## Error estandar de T\n",
    "\n",
    "Es la desviacion tipica de $T$."
   ]
  }
 ],
 "metadata": {
  "kernelspec": {
   "display_name": "Python 3",
   "language": "python",
   "name": "python3"
  },
  "language_info": {
   "codemirror_mode": {
    "name": "ipython",
    "version": 3
   },
   "file_extension": ".py",
   "mimetype": "text/x-python",
   "name": "python",
   "nbconvert_exporter": "python",
   "pygments_lexer": "ipython3",
   "version": "3.7.4"
  }
 },
 "nbformat": 4,
 "nbformat_minor": 2
}
