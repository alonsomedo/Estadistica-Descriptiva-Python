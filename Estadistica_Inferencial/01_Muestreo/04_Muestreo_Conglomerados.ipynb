{
 "cells": [
  {
   "cell_type": "code",
   "execution_count": 1,
   "metadata": {},
   "outputs": [],
   "source": [
    "import numpy as np\n",
    "import pandas as pd"
   ]
  },
  {
   "cell_type": "markdown",
   "metadata": {},
   "source": [
    "# Muestreo por conglomerados\n",
    "\n",
    "El proceso de obtener y estudiar una muestra aleatoria en algunos casos es caro o dificil, aunque dispongamos de la lista completa de la poblacion. \n",
    "\n",
    "Una alternativa posible sería, en vez de extraer una muestra aleatoria de todos los individuos de la poblacion, escoger primero al azar unos subconjuntos en los que la poblacion esta dividida, a las que llamamos en este contexto **conglomerados (clusters)**."
   ]
  },
  {
   "cell_type": "markdown",
   "metadata": {},
   "source": [
    "## Ejemplo\n",
    "\n",
    "Consideremos la tabla de datos worldcup. Esta tabla de datos nos da informacion sobre 595 jugadores que participaron en el Mundial de Futbol del año 2010 celebrado en Sudáfrica. La tabla nos da la informacion siguiente sobre cada jugador:\n",
    "\n",
    "- Team: pais del jugador.\n",
    "- Position: posicion en la que juega el jugador\n",
    "- Time: tiempo que ha jugado el jugador en minutos\n",
    "- Shots: numero de tiros a puerta\n",
    "- Passes: numero de pases\n",
    "- Tackles: numero de entradas\n",
    "- Saves: numero de paradas"
   ]
  },
  {
   "cell_type": "code",
   "execution_count": 5,
   "metadata": {},
   "outputs": [],
   "source": [
    "data = pd.read_csv('..\\datasets\\worldcup.csv', sep=',', index_col=0 )"
   ]
  },
  {
   "cell_type": "code",
   "execution_count": 7,
   "metadata": {},
   "outputs": [
    {
     "data": {
      "text/html": [
       "<div>\n",
       "<style scoped>\n",
       "    .dataframe tbody tr th:only-of-type {\n",
       "        vertical-align: middle;\n",
       "    }\n",
       "\n",
       "    .dataframe tbody tr th {\n",
       "        vertical-align: top;\n",
       "    }\n",
       "\n",
       "    .dataframe thead th {\n",
       "        text-align: right;\n",
       "    }\n",
       "</style>\n",
       "<table border=\"1\" class=\"dataframe\">\n",
       "  <thead>\n",
       "    <tr style=\"text-align: right;\">\n",
       "      <th></th>\n",
       "      <th>Team</th>\n",
       "      <th>Position</th>\n",
       "      <th>Time</th>\n",
       "      <th>Shots</th>\n",
       "      <th>Passes</th>\n",
       "      <th>Tackles</th>\n",
       "      <th>Saves</th>\n",
       "    </tr>\n",
       "  </thead>\n",
       "  <tbody>\n",
       "    <tr>\n",
       "      <th>Heskey</th>\n",
       "      <td>England</td>\n",
       "      <td>Forward</td>\n",
       "      <td>176</td>\n",
       "      <td>2</td>\n",
       "      <td>53</td>\n",
       "      <td>7</td>\n",
       "      <td>0</td>\n",
       "    </tr>\n",
       "    <tr>\n",
       "      <th>Cech</th>\n",
       "      <td>Slovakia</td>\n",
       "      <td>Defender</td>\n",
       "      <td>90</td>\n",
       "      <td>0</td>\n",
       "      <td>35</td>\n",
       "      <td>2</td>\n",
       "      <td>0</td>\n",
       "    </tr>\n",
       "    <tr>\n",
       "      <th>Abe</th>\n",
       "      <td>Japan</td>\n",
       "      <td>Midfielder</td>\n",
       "      <td>351</td>\n",
       "      <td>0</td>\n",
       "      <td>101</td>\n",
       "      <td>14</td>\n",
       "      <td>0</td>\n",
       "    </tr>\n",
       "    <tr>\n",
       "      <th>RodriguezM</th>\n",
       "      <td>Mexico</td>\n",
       "      <td>Defender</td>\n",
       "      <td>360</td>\n",
       "      <td>2</td>\n",
       "      <td>212</td>\n",
       "      <td>7</td>\n",
       "      <td>0</td>\n",
       "    </tr>\n",
       "    <tr>\n",
       "      <th>Javi Martinez</th>\n",
       "      <td>Spain</td>\n",
       "      <td>Midfielder</td>\n",
       "      <td>17</td>\n",
       "      <td>0</td>\n",
       "      <td>17</td>\n",
       "      <td>0</td>\n",
       "      <td>0</td>\n",
       "    </tr>\n",
       "  </tbody>\n",
       "</table>\n",
       "</div>"
      ],
      "text/plain": [
       "                   Team    Position  Time  Shots  Passes  Tackles  Saves\n",
       "Heskey          England     Forward   176      2      53        7      0\n",
       "Cech           Slovakia    Defender    90      0      35        2      0\n",
       "Abe               Japan  Midfielder   351      0     101       14      0\n",
       "RodriguezM       Mexico    Defender   360      2     212        7      0\n",
       "Javi Martinez     Spain  Midfielder    17      0      17        0      0"
      ]
     },
     "execution_count": 7,
     "metadata": {},
     "output_type": "execute_result"
    }
   ],
   "source": [
    "data.sample(5)"
   ]
  },
  {
   "cell_type": "markdown",
   "metadata": {},
   "source": [
    "Supongamos que queremos calcular una muestra de tamaño indeterminado de los jugadores por conglomerados eligiendo como conglomerados los paises a los que estos pertenecen. \n",
    "\n",
    "En nuestro dataset existe un total de 32 paises. \n",
    "\n",
    "Elegiremos primero 4 paises aleatoriamente y la muestra elegida seran los jugadores que pertenecen a dichos paises:"
   ]
  },
  {
   "cell_type": "code",
   "execution_count": 11,
   "metadata": {},
   "outputs": [
    {
     "name": "stdout",
     "output_type": "stream",
     "text": [
      "Total de paises:  32\n"
     ]
    },
    {
     "data": {
      "text/plain": [
       "array(['Algeria', 'Japan', 'France', 'Cameroon', 'Uruguay', 'Ghana',\n",
       "       'Netherlands', 'Nigeria', 'Denmark', 'Mexico', 'Argentina',\n",
       "       'North Korea', 'Paraguay', 'Portugal', 'Spain', 'Honduras',\n",
       "       'England', 'Greece', 'Germany', 'Brazil', 'Switzerland',\n",
       "       'New Zealand', 'Ivory Coast', 'USA', 'Australia', 'Chile',\n",
       "       'Slovenia', 'Italy', 'Slovakia', 'South Korea', 'South Africa',\n",
       "       'Serbia'], dtype=object)"
      ]
     },
     "execution_count": 11,
     "metadata": {},
     "output_type": "execute_result"
    }
   ],
   "source": [
    "paises = data['Team'].unique()\n",
    "print('Total de paises: ',len(paises))\n",
    "paises"
   ]
  },
  {
   "cell_type": "markdown",
   "metadata": {},
   "source": [
    "Los paises elegidos son:"
   ]
  },
  {
   "cell_type": "code",
   "execution_count": 14,
   "metadata": {},
   "outputs": [
    {
     "data": {
      "text/plain": [
       "array(['Ghana', 'South Korea', 'Algeria', 'Portugal'], dtype=object)"
      ]
     },
     "execution_count": 14,
     "metadata": {},
     "output_type": "execute_result"
    }
   ],
   "source": [
    "paises_elegidos = np.random.choice(paises, 4, replace=False)\n",
    "paises_elegidos"
   ]
  },
  {
   "cell_type": "markdown",
   "metadata": {},
   "source": [
    "La muestra elegida sera:"
   ]
  },
  {
   "cell_type": "code",
   "execution_count": 26,
   "metadata": {},
   "outputs": [
    {
     "name": "stdout",
     "output_type": "stream",
     "text": [
      "La muestra tiene un total de:  74 registros.\n"
     ]
    },
    {
     "data": {
      "text/html": [
       "<div>\n",
       "<style scoped>\n",
       "    .dataframe tbody tr th:only-of-type {\n",
       "        vertical-align: middle;\n",
       "    }\n",
       "\n",
       "    .dataframe tbody tr th {\n",
       "        vertical-align: top;\n",
       "    }\n",
       "\n",
       "    .dataframe thead th {\n",
       "        text-align: right;\n",
       "    }\n",
       "</style>\n",
       "<table border=\"1\" class=\"dataframe\">\n",
       "  <thead>\n",
       "    <tr style=\"text-align: right;\">\n",
       "      <th></th>\n",
       "      <th>Team</th>\n",
       "      <th>Position</th>\n",
       "      <th>Time</th>\n",
       "      <th>Shots</th>\n",
       "      <th>Passes</th>\n",
       "      <th>Tackles</th>\n",
       "      <th>Saves</th>\n",
       "    </tr>\n",
       "  </thead>\n",
       "  <tbody>\n",
       "    <tr>\n",
       "      <th>Abdoun</th>\n",
       "      <td>Algeria</td>\n",
       "      <td>Midfielder</td>\n",
       "      <td>16</td>\n",
       "      <td>0</td>\n",
       "      <td>6</td>\n",
       "      <td>0</td>\n",
       "      <td>0</td>\n",
       "    </tr>\n",
       "    <tr>\n",
       "      <th>Addy</th>\n",
       "      <td>Ghana</td>\n",
       "      <td>Defender</td>\n",
       "      <td>138</td>\n",
       "      <td>0</td>\n",
       "      <td>51</td>\n",
       "      <td>2</td>\n",
       "      <td>0</td>\n",
       "    </tr>\n",
       "    <tr>\n",
       "      <th>Adiyiah</th>\n",
       "      <td>Ghana</td>\n",
       "      <td>Forward</td>\n",
       "      <td>33</td>\n",
       "      <td>0</td>\n",
       "      <td>9</td>\n",
       "      <td>0</td>\n",
       "      <td>0</td>\n",
       "    </tr>\n",
       "    <tr>\n",
       "      <th>Almeida</th>\n",
       "      <td>Portugal</td>\n",
       "      <td>Forward</td>\n",
       "      <td>136</td>\n",
       "      <td>5</td>\n",
       "      <td>42</td>\n",
       "      <td>3</td>\n",
       "      <td>0</td>\n",
       "    </tr>\n",
       "    <tr>\n",
       "      <th>Amoah</th>\n",
       "      <td>Ghana</td>\n",
       "      <td>Forward</td>\n",
       "      <td>11</td>\n",
       "      <td>0</td>\n",
       "      <td>4</td>\n",
       "      <td>1</td>\n",
       "      <td>0</td>\n",
       "    </tr>\n",
       "    <tr>\n",
       "      <th>...</th>\n",
       "      <td>...</td>\n",
       "      <td>...</td>\n",
       "      <td>...</td>\n",
       "      <td>...</td>\n",
       "      <td>...</td>\n",
       "      <td>...</td>\n",
       "      <td>...</td>\n",
       "    </tr>\n",
       "    <tr>\n",
       "      <th>Vorsah</th>\n",
       "      <td>Ghana</td>\n",
       "      <td>Defender</td>\n",
       "      <td>210</td>\n",
       "      <td>1</td>\n",
       "      <td>56</td>\n",
       "      <td>2</td>\n",
       "      <td>0</td>\n",
       "    </tr>\n",
       "    <tr>\n",
       "      <th>Yahia</th>\n",
       "      <td>Algeria</td>\n",
       "      <td>Defender</td>\n",
       "      <td>269</td>\n",
       "      <td>1</td>\n",
       "      <td>79</td>\n",
       "      <td>4</td>\n",
       "      <td>0</td>\n",
       "    </tr>\n",
       "    <tr>\n",
       "      <th>Yebda</th>\n",
       "      <td>Algeria</td>\n",
       "      <td>Midfielder</td>\n",
       "      <td>269</td>\n",
       "      <td>8</td>\n",
       "      <td>138</td>\n",
       "      <td>10</td>\n",
       "      <td>0</td>\n",
       "    </tr>\n",
       "    <tr>\n",
       "      <th>Yeom Ki-Hun</th>\n",
       "      <td>South Korea</td>\n",
       "      <td>Midfielder</td>\n",
       "      <td>249</td>\n",
       "      <td>2</td>\n",
       "      <td>80</td>\n",
       "      <td>6</td>\n",
       "      <td>0</td>\n",
       "    </tr>\n",
       "    <tr>\n",
       "      <th>Ziani</th>\n",
       "      <td>Algeria</td>\n",
       "      <td>Midfielder</td>\n",
       "      <td>240</td>\n",
       "      <td>5</td>\n",
       "      <td>93</td>\n",
       "      <td>6</td>\n",
       "      <td>0</td>\n",
       "    </tr>\n",
       "  </tbody>\n",
       "</table>\n",
       "<p>74 rows × 7 columns</p>\n",
       "</div>"
      ],
      "text/plain": [
       "                    Team    Position  Time  Shots  Passes  Tackles  Saves\n",
       "Abdoun           Algeria  Midfielder    16      0       6        0      0\n",
       "Addy               Ghana    Defender   138      0      51        2      0\n",
       "Adiyiah            Ghana     Forward    33      0       9        0      0\n",
       "Almeida         Portugal     Forward   136      5      42        3      0\n",
       "Amoah              Ghana     Forward    11      0       4        1      0\n",
       "...                  ...         ...   ...    ...     ...      ...    ...\n",
       "Vorsah             Ghana    Defender   210      1      56        2      0\n",
       "Yahia            Algeria    Defender   269      1      79        4      0\n",
       "Yebda            Algeria  Midfielder   269      8     138       10      0\n",
       "Yeom Ki-Hun  South Korea  Midfielder   249      2      80        6      0\n",
       "Ziani            Algeria  Midfielder   240      5      93        6      0\n",
       "\n",
       "[74 rows x 7 columns]"
      ]
     },
     "execution_count": 26,
     "metadata": {},
     "output_type": "execute_result"
    }
   ],
   "source": [
    "mask = data['Team'].isin(paises_elegidos)\n",
    "data_sample = data[mask]\n",
    "print(f'La muestra tiene un total de:  {len(data_sample)} registros.')\n",
    "data_sample\n"
   ]
  }
 ],
 "metadata": {
  "kernelspec": {
   "display_name": "Python 3",
   "language": "python",
   "name": "python3"
  },
  "language_info": {
   "codemirror_mode": {
    "name": "ipython",
    "version": 3
   },
   "file_extension": ".py",
   "mimetype": "text/x-python",
   "name": "python",
   "nbconvert_exporter": "python",
   "pygments_lexer": "ipython3",
   "version": "3.7.4"
  }
 },
 "nbformat": 4,
 "nbformat_minor": 2
}
